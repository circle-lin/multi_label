{
 "cells": [
  {
   "cell_type": "code",
   "execution_count": 1,
   "id": "13068515",
   "metadata": {},
   "outputs": [
    {
     "name": "stderr",
     "output_type": "stream",
     "text": [
      "D:\\anaconda3\\envs\\openne\\lib\\importlib\\_bootstrap.py:219: RuntimeWarning: numpy.ufunc size changed, may indicate binary incompatibility. Expected 192 from C header, got 216 from PyObject\n",
      "  return f(*args, **kwds)\n"
     ]
    },
    {
     "name": "stdout",
     "output_type": "stream",
     "text": [
      "yeast:train - exists, not redownloading\n",
      "yeast:test - exists, not redownloading\n"
     ]
    }
   ],
   "source": [
    "import numpy\n",
    "import sklearn.metrics as metrics\n",
    "from skmultilearn.dataset import load_dataset\n",
    "import numpy as np\n",
    "import pandas as pd\n",
    "X_train, y_train, feature_names, label_names = load_dataset('yeast', 'train')\n",
    "X_test, y_test, _, _ = load_dataset('yeast', 'test')"
   ]
  },
  {
   "cell_type": "code",
   "execution_count": 2,
   "id": "aa172369",
   "metadata": {},
   "outputs": [
    {
     "name": "stderr",
     "output_type": "stream",
     "text": [
      "D:\\anaconda3\\envs\\openne\\lib\\importlib\\_bootstrap.py:219: RuntimeWarning: numpy.ufunc size changed, may indicate binary incompatibility. Expected 216, got 192\n",
      "  return f(*args, **kwds)\n",
      "D:\\anaconda3\\envs\\openne\\lib\\importlib\\_bootstrap.py:219: RuntimeWarning: numpy.ufunc size changed, may indicate binary incompatibility. Expected 216, got 192\n",
      "  return f(*args, **kwds)\n"
     ]
    }
   ],
   "source": [
    "from skmultilearn.problem_transform import BinaryRelevance\n",
    "from skmultilearn.problem_transform import ClassifierChain\n",
    "from skmultilearn.problem_transform import LabelPowerset\n",
    "import bls\n",
    "from sklearn.ensemble import RandomForestClassifier"
   ]
  },
  {
   "cell_type": "code",
   "execution_count": 3,
   "id": "3d149add",
   "metadata": {},
   "outputs": [],
   "source": [
    "blsnet = bls.broadnet(maptimes = 10,\n",
    "               enhencetimes = 10,\n",
    "               map_function = 'relu',\n",
    "               enhence_function = 'relu',\n",
    "               batchsize = 100,\n",
    "               reg = 0.001)\n",
    "clf = BinaryRelevance(\n",
    "    classifier=blsnet,\n",
    "    require_dense=[False, True]\n",
    ")"
   ]
  },
  {
   "cell_type": "code",
   "execution_count": 4,
   "id": "1c67aebf",
   "metadata": {},
   "outputs": [
    {
     "name": "stdout",
     "output_type": "stream",
     "text": [
      "number of mapping nodes 1000, number of enhence nodes 1000\n",
      "mapping nodes maxvalue 27.86388 minvalue 0.0 \n",
      "enhence nodes maxvalue 19.91657 minvalue 0.0 \n",
      "number of mapping nodes 1000, number of enhence nodes 1000\n",
      "mapping nodes maxvalue 26.85892 minvalue 0.0 \n",
      "enhence nodes maxvalue 19.03157 minvalue 0.0 \n",
      "number of mapping nodes 1000, number of enhence nodes 1000\n",
      "mapping nodes maxvalue 25.09321 minvalue 0.0 \n",
      "enhence nodes maxvalue 18.11968 minvalue 0.0 \n",
      "number of mapping nodes 1000, number of enhence nodes 1000\n",
      "mapping nodes maxvalue 28.5004 minvalue 0.0 \n",
      "enhence nodes maxvalue 21.69455 minvalue 0.0 \n",
      "number of mapping nodes 1000, number of enhence nodes 1000\n",
      "mapping nodes maxvalue 27.78588 minvalue 0.0 \n",
      "enhence nodes maxvalue 20.28547 minvalue 0.0 \n",
      "number of mapping nodes 1000, number of enhence nodes 1000\n",
      "mapping nodes maxvalue 29.06469 minvalue 0.0 \n",
      "enhence nodes maxvalue 21.1077 minvalue 0.0 \n",
      "number of mapping nodes 1000, number of enhence nodes 1000\n",
      "mapping nodes maxvalue 26.64275 minvalue 0.0 \n",
      "enhence nodes maxvalue 19.97614 minvalue 0.0 \n",
      "number of mapping nodes 1000, number of enhence nodes 1000\n",
      "mapping nodes maxvalue 27.95717 minvalue 0.0 \n",
      "enhence nodes maxvalue 19.33799 minvalue 0.0 \n",
      "number of mapping nodes 1000, number of enhence nodes 1000\n",
      "mapping nodes maxvalue 30.69973 minvalue 0.0 \n",
      "enhence nodes maxvalue 20.38565 minvalue 0.0 \n",
      "number of mapping nodes 1000, number of enhence nodes 1000\n",
      "mapping nodes maxvalue 27.93844 minvalue 0.0 \n",
      "enhence nodes maxvalue 21.19837 minvalue 0.0 \n",
      "number of mapping nodes 1000, number of enhence nodes 1000\n",
      "mapping nodes maxvalue 27.62475 minvalue 0.0 \n",
      "enhence nodes maxvalue 22.06198 minvalue 0.0 \n",
      "number of mapping nodes 1000, number of enhence nodes 1000\n",
      "mapping nodes maxvalue 28.36517 minvalue 0.0 \n",
      "enhence nodes maxvalue 20.06979 minvalue 0.0 \n",
      "number of mapping nodes 1000, number of enhence nodes 1000\n",
      "mapping nodes maxvalue 27.28275 minvalue 0.0 \n",
      "enhence nodes maxvalue 19.57043 minvalue 0.0 \n",
      "number of mapping nodes 1000, number of enhence nodes 1000\n",
      "mapping nodes maxvalue 25.20635 minvalue 0.0 \n",
      "enhence nodes maxvalue 18.96982 minvalue 0.0 \n"
     ]
    },
    {
     "data": {
      "text/plain": [
       "BinaryRelevance(classifier=<bls.broadnet object at 0x0000021F1033D400>,\n",
       "        require_dense=[False, True])"
      ]
     },
     "execution_count": 4,
     "metadata": {},
     "output_type": "execute_result"
    }
   ],
   "source": [
    "clf.fit(X_train.toarray(),y_train.toarray())"
   ]
  },
  {
   "cell_type": "code",
   "execution_count": 5,
   "id": "163fbd72",
   "metadata": {},
   "outputs": [
    {
     "data": {
      "text/plain": [
       "0.017448200654307525"
      ]
     },
     "execution_count": 5,
     "metadata": {},
     "output_type": "execute_result"
    }
   ],
   "source": [
    "clf.score(X_test,y_test)"
   ]
  },
  {
   "cell_type": "code",
   "execution_count": 7,
   "id": "f3d404d8",
   "metadata": {},
   "outputs": [
    {
     "data": {
      "text/plain": [
       "0.11450381679389313"
      ]
     },
     "execution_count": 7,
     "metadata": {},
     "output_type": "execute_result"
    }
   ],
   "source": [
    "clf1=BinaryRelevance(classifier=RandomForestClassifier(n_estimators=10),\n",
    "                    require_dense=[False, True])\n",
    "clf1.fit(X_train,y_train)\n",
    "clf1.score(X_test,y_test)"
   ]
  },
  {
   "cell_type": "code",
   "execution_count": 9,
   "id": "16ae1807",
   "metadata": {},
   "outputs": [
    {
     "data": {
      "text/plain": [
       "1.0"
      ]
     },
     "execution_count": 9,
     "metadata": {},
     "output_type": "execute_result"
    }
   ],
   "source": [
    "clf.score(X_train,y_train)"
   ]
  },
  {
   "cell_type": "code",
   "execution_count": 12,
   "id": "25f0d8c6",
   "metadata": {},
   "outputs": [
    {
     "data": {
      "text/plain": [
       "0.019629225736095966"
      ]
     },
     "execution_count": 12,
     "metadata": {},
     "output_type": "execute_result"
    }
   ],
   "source": [
    "clf.score(X_test,y_test)"
   ]
  },
  {
   "cell_type": "code",
   "execution_count": 15,
   "id": "4aebdf98",
   "metadata": {},
   "outputs": [
    {
     "data": {
      "text/plain": [
       "(917, 14)"
      ]
     },
     "execution_count": 15,
     "metadata": {},
     "output_type": "execute_result"
    }
   ],
   "source": [
    "clf.predict(X_test).toarray().shape"
   ]
  },
  {
   "cell_type": "code",
   "execution_count": 14,
   "id": "14671033",
   "metadata": {},
   "outputs": [
    {
     "name": "stdout",
     "output_type": "stream",
     "text": [
      "number of mapping nodes 1000, number of enhence nodes 1000\n",
      "mapping nodes maxvalue 27.17227 minvalue 0.0 \n",
      "enhence nodes maxvalue 21.17218 minvalue 0.0 \n"
     ]
    },
    {
     "data": {
      "text/plain": [
       "LabelPowerset(classifier=<bls.broadnet object at 0x0000021F107C4898>,\n",
       "       require_dense=[False, True])"
      ]
     },
     "execution_count": 14,
     "metadata": {},
     "output_type": "execute_result"
    }
   ],
   "source": [
    "blsnet = bls.broadnet(maptimes = 10,\n",
    "               enhencetimes = 10,\n",
    "               map_function = 'relu',\n",
    "               enhence_function = 'relu',\n",
    "               batchsize = 100,\n",
    "               reg = 0.001)\n",
    "clf = LabelPowerset(\n",
    "    classifier=blsnet,\n",
    "    require_dense=[False, True]\n",
    ")\n",
    "clf.fit(X_train,y_train)\n"
   ]
  },
  {
   "cell_type": "code",
   "execution_count": 16,
   "id": "eef69081",
   "metadata": {},
   "outputs": [
    {
     "name": "stderr",
     "output_type": "stream",
     "text": [
      "D:\\anaconda3\\envs\\openne\\lib\\site-packages\\scipy\\sparse\\lil.py:515: FutureWarning: future versions will not create a writeable array from broadcast_array. Set the writable flag explicitly to avoid this warning.\n",
      "  if not i.flags.writeable or i.dtype not in (np.int32, np.int64):\n",
      "D:\\anaconda3\\envs\\openne\\lib\\site-packages\\scipy\\sparse\\lil.py:517: FutureWarning: future versions will not create a writeable array from broadcast_array. Set the writable flag explicitly to avoid this warning.\n",
      "  if not j.flags.writeable or j.dtype not in (np.int32, np.int64):\n",
      "D:\\anaconda3\\envs\\openne\\lib\\site-packages\\scipy\\sparse\\lil.py:521: FutureWarning: future versions will not create a writeable array from broadcast_array. Set the writable flag explicitly to avoid this warning.\n",
      "  if not x.flags.writeable:\n"
     ]
    },
    {
     "data": {
      "text/plain": [
       "0.1624863685932388"
      ]
     },
     "execution_count": 16,
     "metadata": {},
     "output_type": "execute_result"
    }
   ],
   "source": [
    "clf.score(X_test,y_test)"
   ]
  },
  {
   "cell_type": "code",
   "execution_count": 19,
   "id": "19b18ee2",
   "metadata": {},
   "outputs": [
    {
     "data": {
      "text/plain": [
       "0.21264994547437296"
      ]
     },
     "execution_count": 19,
     "metadata": {},
     "output_type": "execute_result"
    }
   ],
   "source": [
    "clf1=ClassifierChain(classifier=RandomForestClassifier(n_estimators=100),\n",
    "                    require_dense=[False, True])\n",
    "clf1.fit(X_train,y_train)\n",
    "clf1.score(X_test,y_test)"
   ]
  },
  {
   "cell_type": "code",
   "execution_count": 20,
   "id": "0c79f721",
   "metadata": {},
   "outputs": [
    {
     "name": "stdout",
     "output_type": "stream",
     "text": [
      "number of mapping nodes 1000, number of enhence nodes 1000\n",
      "mapping nodes maxvalue 28.27169 minvalue 0.0 \n",
      "enhence nodes maxvalue 24.35242 minvalue 0.0 \n",
      "number of mapping nodes 1000, number of enhence nodes 1000\n",
      "mapping nodes maxvalue 27.33316 minvalue 0.0 \n",
      "enhence nodes maxvalue 19.79884 minvalue 0.0 \n",
      "number of mapping nodes 1000, number of enhence nodes 1000\n",
      "mapping nodes maxvalue 27.01725 minvalue 0.0 \n",
      "enhence nodes maxvalue 20.26496 minvalue 0.0 \n",
      "number of mapping nodes 1000, number of enhence nodes 1000\n",
      "mapping nodes maxvalue 26.0397 minvalue 0.0 \n",
      "enhence nodes maxvalue 22.29223 minvalue 0.0 \n",
      "number of mapping nodes 1000, number of enhence nodes 1000\n",
      "mapping nodes maxvalue 27.68457 minvalue 0.0 \n",
      "enhence nodes maxvalue 20.81321 minvalue 0.0 \n",
      "number of mapping nodes 1000, number of enhence nodes 1000\n",
      "mapping nodes maxvalue 30.64761 minvalue 0.0 \n",
      "enhence nodes maxvalue 19.21219 minvalue 0.0 \n",
      "number of mapping nodes 1000, number of enhence nodes 1000\n",
      "mapping nodes maxvalue 28.12451 minvalue 0.0 \n",
      "enhence nodes maxvalue 21.03798 minvalue 0.0 \n",
      "number of mapping nodes 1000, number of enhence nodes 1000\n",
      "mapping nodes maxvalue 27.94062 minvalue 0.0 \n",
      "enhence nodes maxvalue 20.60274 minvalue 0.0 \n",
      "number of mapping nodes 1000, number of enhence nodes 1000\n",
      "mapping nodes maxvalue 27.68875 minvalue 0.0 \n",
      "enhence nodes maxvalue 20.21597 minvalue 0.0 \n",
      "number of mapping nodes 1000, number of enhence nodes 1000\n",
      "mapping nodes maxvalue 29.17361 minvalue 0.0 \n",
      "enhence nodes maxvalue 21.84413 minvalue 0.0 \n",
      "number of mapping nodes 1000, number of enhence nodes 1000\n",
      "mapping nodes maxvalue 30.6909 minvalue 0.0 \n",
      "enhence nodes maxvalue 20.62415 minvalue 0.0 \n",
      "number of mapping nodes 1000, number of enhence nodes 1000\n",
      "mapping nodes maxvalue 31.01201 minvalue 0.0 \n",
      "enhence nodes maxvalue 23.89005 minvalue 0.0 \n",
      "number of mapping nodes 1000, number of enhence nodes 1000\n",
      "mapping nodes maxvalue 31.77101 minvalue 0.0 \n",
      "enhence nodes maxvalue 20.67923 minvalue 0.0 \n",
      "number of mapping nodes 1000, number of enhence nodes 1000\n",
      "mapping nodes maxvalue 29.23203 minvalue 0.0 \n",
      "enhence nodes maxvalue 20.48306 minvalue 0.0 \n"
     ]
    },
    {
     "ename": "AttributeError",
     "evalue": "'NoneType' object has no attribute 'predict'",
     "output_type": "error",
     "traceback": [
      "\u001b[1;31m---------------------------------------------------------------------------\u001b[0m",
      "\u001b[1;31mAttributeError\u001b[0m                            Traceback (most recent call last)",
      "\u001b[1;32m<ipython-input-20-c55e08421ea7>\u001b[0m in \u001b[0;36m<module>\u001b[1;34m\u001b[0m\n\u001b[0;32m      4\u001b[0m )\n\u001b[0;32m      5\u001b[0m \u001b[0mclf\u001b[0m\u001b[1;33m.\u001b[0m\u001b[0mfit\u001b[0m\u001b[1;33m(\u001b[0m\u001b[0mX_train\u001b[0m\u001b[1;33m,\u001b[0m\u001b[0my_train\u001b[0m\u001b[1;33m)\u001b[0m\u001b[1;33m\u001b[0m\u001b[1;33m\u001b[0m\u001b[0m\n\u001b[1;32m----> 6\u001b[1;33m \u001b[0mclf\u001b[0m\u001b[1;33m.\u001b[0m\u001b[0mscore\u001b[0m\u001b[1;33m(\u001b[0m\u001b[0mX_test\u001b[0m\u001b[1;33m,\u001b[0m\u001b[0my_test\u001b[0m\u001b[1;33m)\u001b[0m\u001b[1;33m\u001b[0m\u001b[1;33m\u001b[0m\u001b[0m\n\u001b[0m",
      "\u001b[1;32mD:\\anaconda3\\envs\\openne\\lib\\site-packages\\sklearn\\base.py\u001b[0m in \u001b[0;36mscore\u001b[1;34m(self, X, y, sample_weight)\u001b[0m\n\u001b[0;32m    348\u001b[0m         \"\"\"\n\u001b[0;32m    349\u001b[0m         \u001b[1;32mfrom\u001b[0m \u001b[1;33m.\u001b[0m\u001b[0mmetrics\u001b[0m \u001b[1;32mimport\u001b[0m \u001b[0maccuracy_score\u001b[0m\u001b[1;33m\u001b[0m\u001b[1;33m\u001b[0m\u001b[0m\n\u001b[1;32m--> 350\u001b[1;33m         \u001b[1;32mreturn\u001b[0m \u001b[0maccuracy_score\u001b[0m\u001b[1;33m(\u001b[0m\u001b[0my\u001b[0m\u001b[1;33m,\u001b[0m \u001b[0mself\u001b[0m\u001b[1;33m.\u001b[0m\u001b[0mpredict\u001b[0m\u001b[1;33m(\u001b[0m\u001b[0mX\u001b[0m\u001b[1;33m)\u001b[0m\u001b[1;33m,\u001b[0m \u001b[0msample_weight\u001b[0m\u001b[1;33m=\u001b[0m\u001b[0msample_weight\u001b[0m\u001b[1;33m)\u001b[0m\u001b[1;33m\u001b[0m\u001b[1;33m\u001b[0m\u001b[0m\n\u001b[0m\u001b[0;32m    351\u001b[0m \u001b[1;33m\u001b[0m\u001b[0m\n\u001b[0;32m    352\u001b[0m \u001b[1;33m\u001b[0m\u001b[0m\n",
      "\u001b[1;32mD:\\anaconda3\\envs\\openne\\lib\\site-packages\\skmultilearn\\problem_transform\\cc.py\u001b[0m in \u001b[0;36mpredict\u001b[1;34m(self, X)\u001b[0m\n\u001b[0;32m    176\u001b[0m \u001b[1;33m\u001b[0m\u001b[0m\n\u001b[0;32m    177\u001b[0m         \u001b[1;32mfor\u001b[0m \u001b[0mlabel\u001b[0m \u001b[1;32min\u001b[0m \u001b[0mself\u001b[0m\u001b[1;33m.\u001b[0m\u001b[0m_order\u001b[0m\u001b[1;33m(\u001b[0m\u001b[1;33m)\u001b[0m\u001b[1;33m:\u001b[0m\u001b[1;33m\u001b[0m\u001b[1;33m\u001b[0m\u001b[0m\n\u001b[1;32m--> 178\u001b[1;33m             prediction = self.classifiers_[label].predict(\n\u001b[0m\u001b[0;32m    179\u001b[0m                 self._ensure_input_format(X_extended))\n\u001b[0;32m    180\u001b[0m             \u001b[0mprediction\u001b[0m \u001b[1;33m=\u001b[0m \u001b[0mself\u001b[0m\u001b[1;33m.\u001b[0m\u001b[0m_ensure_multi_label_from_single_class\u001b[0m\u001b[1;33m(\u001b[0m\u001b[0mprediction\u001b[0m\u001b[1;33m)\u001b[0m\u001b[1;33m\u001b[0m\u001b[1;33m\u001b[0m\u001b[0m\n",
      "\u001b[1;31mAttributeError\u001b[0m: 'NoneType' object has no attribute 'predict'"
     ]
    }
   ],
   "source": [
    "clf = ClassifierChain(\n",
    "    classifier=blsnet,\n",
    "    require_dense=[False, True]\n",
    ")\n",
    "clf.fit(X_train,y_train)\n",
    "clf.score(X_test,y_test)"
   ]
  },
  {
   "cell_type": "code",
   "execution_count": null,
   "id": "9f7b5479",
   "metadata": {},
   "outputs": [],
   "source": []
  }
 ],
 "metadata": {
  "kernelspec": {
   "display_name": "Python [conda env:openne] *",
   "language": "python",
   "name": "conda-env-openne-py"
  },
  "language_info": {
   "codemirror_mode": {
    "name": "ipython",
    "version": 3
   },
   "file_extension": ".py",
   "mimetype": "text/x-python",
   "name": "python",
   "nbconvert_exporter": "python",
   "pygments_lexer": "ipython3",
   "version": "3.6.13"
  }
 },
 "nbformat": 4,
 "nbformat_minor": 5
}
