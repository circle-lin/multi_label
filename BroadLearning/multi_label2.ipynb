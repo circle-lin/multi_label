{
 "cells": [
  {
   "cell_type": "code",
   "execution_count": 1,
   "id": "734d495a",
   "metadata": {},
   "outputs": [
    {
     "name": "stdout",
     "output_type": "stream",
     "text": [
      "yeast:train - exists, not redownloading\n",
      "yeast:test - exists, not redownloading\n"
     ]
    }
   ],
   "source": [
    "import numpy\n",
    "import sklearn.metrics as metrics\n",
    "from skmultilearn.dataset import load_dataset\n",
    "import numpy as np\n",
    "import pandas as pd\n",
    "X_train, y_train, feature_names, label_names = load_dataset('yeast', 'train')\n",
    "X_test, y_test, _, _ = load_dataset('yeast', 'test')"
   ]
  },
  {
   "cell_type": "code",
   "execution_count": 2,
   "id": "e1a6736b",
   "metadata": {},
   "outputs": [
    {
     "name": "stderr",
     "output_type": "stream",
     "text": [
      "D:\\anaconda3\\envs\\openne\\lib\\site-packages\\sklearn\\ensemble\\weight_boosting.py:29: DeprecationWarning: numpy.core.umath_tests is an internal NumPy module and should not be imported. It will be removed in a future NumPy release.\n",
      "  from numpy.core.umath_tests import inner1d\n"
     ]
    }
   ],
   "source": [
    "from skmultilearn.problem_transform import BinaryRelevance\n",
    "from skmultilearn.problem_transform import ClassifierChain\n",
    "from skmultilearn.problem_transform import LabelPowerset\n",
    "from bls_addinput import broadnet_enhmap\n",
    "from sklearn.ensemble import RandomForestClassifier"
   ]
  },
  {
   "cell_type": "code",
   "execution_count": 3,
   "id": "235ba3c2",
   "metadata": {},
   "outputs": [],
   "source": [
    "bls = broadnet_enhmap(maptimes = 10, \n",
    "                       enhencetimes = 10,\n",
    "                       traintimes = 10,\n",
    "                       map_function = 'tanh',\n",
    "                       enhence_function = 'sigmoid',\n",
    "                       batchsize = 'auto', \n",
    "                       acc = 1,\n",
    "                       mapstep = 10,\n",
    "                       enhencestep = 10,\n",
    "                       reg = 0.001)"
   ]
  },
  {
   "cell_type": "code",
   "execution_count": 4,
   "id": "71ee4d55",
   "metadata": {},
   "outputs": [],
   "source": [
    "clf =BinaryRelevance(\n",
    "    classifier=bls,\n",
    "    require_dense=[False, True]\n",
    ")"
   ]
  },
  {
   "cell_type": "code",
   "execution_count": 5,
   "id": "a14fd1f1",
   "metadata": {},
   "outputs": [
    {
     "data": {
      "text/plain": [
       "BinaryRelevance(classifier=<bls_addinput.broadnet_enhmap object at 0x000001ACBEBA1AC8>,\n",
       "        require_dense=[False, True])"
      ]
     },
     "execution_count": 5,
     "metadata": {},
     "output_type": "execute_result"
    }
   ],
   "source": [
    "clf.fit(X_train.toarray(),y_train.toarray())"
   ]
  },
  {
   "cell_type": "code",
   "execution_count": 6,
   "id": "28b0001d",
   "metadata": {},
   "outputs": [
    {
     "data": {
      "text/plain": [
       "0.007633587786259542"
      ]
     },
     "execution_count": 6,
     "metadata": {},
     "output_type": "execute_result"
    }
   ],
   "source": [
    "clf.score(X_test,y_test)"
   ]
  },
  {
   "cell_type": "code",
   "execution_count": 7,
   "id": "eb0c98f3",
   "metadata": {},
   "outputs": [
    {
     "data": {
      "text/plain": [
       "1.0"
      ]
     },
     "execution_count": 7,
     "metadata": {},
     "output_type": "execute_result"
    }
   ],
   "source": [
    "clf.score(X_train,y_train)"
   ]
  },
  {
   "cell_type": "code",
   "execution_count": 8,
   "id": "5a06246e",
   "metadata": {},
   "outputs": [
    {
     "name": "stdout",
     "output_type": "stream",
     "text": [
      "inital setting, number of mapping nodes 10, number of enhence nodes 10, accuracy 0.714\n",
      "enhencing 1, number of mapping nodes 10, number of enhence nodes 15, accuracy 0.71133\n",
      "enhencing 2, number of mapping nodes 10, number of enhence nodes 20, accuracy 0.70667\n",
      "enhencing 3, number of mapping nodes 10, number of enhence nodes 25, accuracy 0.70933\n",
      "enhencing 4, number of mapping nodes 10, number of enhence nodes 30, accuracy 0.71133\n",
      "enhencing 5, number of mapping nodes 10, number of enhence nodes 35, accuracy 0.71\n",
      "enhencing 6, number of mapping nodes 10, number of enhence nodes 40, accuracy 0.706\n",
      "enhencing 7, number of mapping nodes 10, number of enhence nodes 45, accuracy 0.70733\n",
      "enhencing 8, number of mapping nodes 10, number of enhence nodes 50, accuracy 0.70867\n",
      "enhencing 9, number of mapping nodes 10, number of enhence nodes 55, accuracy 0.70533\n",
      "enhencing 10, number of mapping nodes 10, number of enhence nodes 60, accuracy 0.70333\n",
      "inital setting, number of mapping nodes 10, number of enhence nodes 10, accuracy 0.62067\n",
      "enhencing 1, number of mapping nodes 10, number of enhence nodes 15, accuracy 0.61\n",
      "enhencing 2, number of mapping nodes 10, number of enhence nodes 20, accuracy 0.612\n",
      "enhencing 3, number of mapping nodes 10, number of enhence nodes 25, accuracy 0.60733\n",
      "enhencing 4, number of mapping nodes 10, number of enhence nodes 30, accuracy 0.602\n",
      "enhencing 5, number of mapping nodes 10, number of enhence nodes 35, accuracy 0.60667\n",
      "enhencing 6, number of mapping nodes 10, number of enhence nodes 40, accuracy 0.59933\n",
      "enhencing 7, number of mapping nodes 10, number of enhence nodes 45, accuracy 0.60867\n",
      "enhencing 8, number of mapping nodes 10, number of enhence nodes 50, accuracy 0.60933\n",
      "enhencing 9, number of mapping nodes 10, number of enhence nodes 55, accuracy 0.61333\n",
      "enhencing 10, number of mapping nodes 10, number of enhence nodes 60, accuracy 0.61667\n",
      "inital setting, number of mapping nodes 10, number of enhence nodes 10, accuracy 0.62933\n",
      "enhencing 1, number of mapping nodes 10, number of enhence nodes 15, accuracy 0.62667\n",
      "enhencing 2, number of mapping nodes 10, number of enhence nodes 20, accuracy 0.63067\n",
      "enhencing 3, number of mapping nodes 10, number of enhence nodes 25, accuracy 0.61867\n",
      "enhencing 4, number of mapping nodes 10, number of enhence nodes 30, accuracy 0.618\n",
      "enhencing 5, number of mapping nodes 10, number of enhence nodes 35, accuracy 0.61867\n",
      "enhencing 6, number of mapping nodes 10, number of enhence nodes 40, accuracy 0.62267\n",
      "enhencing 7, number of mapping nodes 10, number of enhence nodes 45, accuracy 0.61867\n",
      "enhencing 8, number of mapping nodes 10, number of enhence nodes 50, accuracy 0.61467\n",
      "enhencing 9, number of mapping nodes 10, number of enhence nodes 55, accuracy 0.62067\n",
      "enhencing 10, number of mapping nodes 10, number of enhence nodes 60, accuracy 0.62067\n",
      "inital setting, number of mapping nodes 10, number of enhence nodes 10, accuracy 0.69733\n",
      "enhencing 1, number of mapping nodes 10, number of enhence nodes 15, accuracy 0.69\n",
      "enhencing 2, number of mapping nodes 10, number of enhence nodes 20, accuracy 0.70333\n",
      "enhencing 3, number of mapping nodes 10, number of enhence nodes 25, accuracy 0.696\n",
      "enhencing 4, number of mapping nodes 10, number of enhence nodes 30, accuracy 0.696\n",
      "enhencing 5, number of mapping nodes 10, number of enhence nodes 35, accuracy 0.70267\n",
      "enhencing 6, number of mapping nodes 10, number of enhence nodes 40, accuracy 0.694\n",
      "enhencing 7, number of mapping nodes 10, number of enhence nodes 45, accuracy 0.69333\n",
      "enhencing 8, number of mapping nodes 10, number of enhence nodes 50, accuracy 0.692\n",
      "enhencing 9, number of mapping nodes 10, number of enhence nodes 55, accuracy 0.69267\n",
      "enhencing 10, number of mapping nodes 10, number of enhence nodes 60, accuracy 0.69467\n",
      "inital setting, number of mapping nodes 10, number of enhence nodes 10, accuracy 0.722\n",
      "enhencing 1, number of mapping nodes 10, number of enhence nodes 15, accuracy 0.72267\n",
      "enhencing 2, number of mapping nodes 10, number of enhence nodes 20, accuracy 0.72533\n",
      "enhencing 3, number of mapping nodes 10, number of enhence nodes 25, accuracy 0.72533\n",
      "enhencing 4, number of mapping nodes 10, number of enhence nodes 30, accuracy 0.72067\n",
      "enhencing 5, number of mapping nodes 10, number of enhence nodes 35, accuracy 0.72133\n",
      "enhencing 6, number of mapping nodes 10, number of enhence nodes 40, accuracy 0.72667\n",
      "enhencing 7, number of mapping nodes 10, number of enhence nodes 45, accuracy 0.724\n",
      "enhencing 8, number of mapping nodes 10, number of enhence nodes 50, accuracy 0.72467\n",
      "enhencing 9, number of mapping nodes 10, number of enhence nodes 55, accuracy 0.724\n",
      "enhencing 10, number of mapping nodes 10, number of enhence nodes 60, accuracy 0.72133\n",
      "inital setting, number of mapping nodes 10, number of enhence nodes 10, accuracy 0.748\n",
      "enhencing 1, number of mapping nodes 10, number of enhence nodes 15, accuracy 0.748\n",
      "enhencing 2, number of mapping nodes 10, number of enhence nodes 20, accuracy 0.748\n",
      "enhencing 3, number of mapping nodes 10, number of enhence nodes 25, accuracy 0.748\n",
      "enhencing 4, number of mapping nodes 10, number of enhence nodes 30, accuracy 0.748\n",
      "enhencing 5, number of mapping nodes 10, number of enhence nodes 35, accuracy 0.748\n",
      "enhencing 6, number of mapping nodes 10, number of enhence nodes 40, accuracy 0.748\n",
      "enhencing 7, number of mapping nodes 10, number of enhence nodes 45, accuracy 0.748\n",
      "enhencing 8, number of mapping nodes 10, number of enhence nodes 50, accuracy 0.748\n",
      "enhencing 9, number of mapping nodes 10, number of enhence nodes 55, accuracy 0.748\n",
      "enhencing 10, number of mapping nodes 10, number of enhence nodes 60, accuracy 0.748\n",
      "inital setting, number of mapping nodes 10, number of enhence nodes 10, accuracy 0.826\n",
      "enhencing 1, number of mapping nodes 10, number of enhence nodes 15, accuracy 0.826\n",
      "enhencing 2, number of mapping nodes 10, number of enhence nodes 20, accuracy 0.826\n",
      "enhencing 3, number of mapping nodes 10, number of enhence nodes 25, accuracy 0.826\n",
      "enhencing 4, number of mapping nodes 10, number of enhence nodes 30, accuracy 0.826\n",
      "enhencing 5, number of mapping nodes 10, number of enhence nodes 35, accuracy 0.826\n",
      "enhencing 6, number of mapping nodes 10, number of enhence nodes 40, accuracy 0.82533\n",
      "enhencing 7, number of mapping nodes 10, number of enhence nodes 45, accuracy 0.826\n",
      "enhencing 8, number of mapping nodes 10, number of enhence nodes 50, accuracy 0.826\n",
      "enhencing 9, number of mapping nodes 10, number of enhence nodes 55, accuracy 0.826\n",
      "enhencing 10, number of mapping nodes 10, number of enhence nodes 60, accuracy 0.826\n",
      "inital setting, number of mapping nodes 10, number of enhence nodes 10, accuracy 0.80733\n",
      "enhencing 1, number of mapping nodes 10, number of enhence nodes 15, accuracy 0.808\n",
      "enhencing 2, number of mapping nodes 10, number of enhence nodes 20, accuracy 0.80733\n",
      "enhencing 3, number of mapping nodes 10, number of enhence nodes 25, accuracy 0.806\n",
      "enhencing 4, number of mapping nodes 10, number of enhence nodes 30, accuracy 0.80733\n",
      "enhencing 5, number of mapping nodes 10, number of enhence nodes 35, accuracy 0.80733\n",
      "enhencing 6, number of mapping nodes 10, number of enhence nodes 40, accuracy 0.80733\n",
      "enhencing 7, number of mapping nodes 10, number of enhence nodes 45, accuracy 0.80733\n",
      "enhencing 8, number of mapping nodes 10, number of enhence nodes 50, accuracy 0.80733\n",
      "enhencing 9, number of mapping nodes 10, number of enhence nodes 55, accuracy 0.80733\n",
      "enhencing 10, number of mapping nodes 10, number of enhence nodes 60, accuracy 0.80733\n",
      "inital setting, number of mapping nodes 10, number of enhence nodes 10, accuracy 0.93467\n",
      "enhencing 1, number of mapping nodes 10, number of enhence nodes 15, accuracy 0.93467\n",
      "enhencing 2, number of mapping nodes 10, number of enhence nodes 20, accuracy 0.93467\n",
      "enhencing 3, number of mapping nodes 10, number of enhence nodes 25, accuracy 0.93467\n",
      "enhencing 4, number of mapping nodes 10, number of enhence nodes 30, accuracy 0.93467\n",
      "enhencing 5, number of mapping nodes 10, number of enhence nodes 35, accuracy 0.93467\n",
      "enhencing 6, number of mapping nodes 10, number of enhence nodes 40, accuracy 0.93467\n",
      "enhencing 7, number of mapping nodes 10, number of enhence nodes 45, accuracy 0.93467\n",
      "enhencing 8, number of mapping nodes 10, number of enhence nodes 50, accuracy 0.93467\n"
     ]
    },
    {
     "name": "stdout",
     "output_type": "stream",
     "text": [
      "enhencing 9, number of mapping nodes 10, number of enhence nodes 55, accuracy 0.93467\n",
      "enhencing 10, number of mapping nodes 10, number of enhence nodes 60, accuracy 0.93467\n",
      "inital setting, number of mapping nodes 10, number of enhence nodes 10, accuracy 0.89267\n",
      "enhencing 1, number of mapping nodes 10, number of enhence nodes 15, accuracy 0.89267\n",
      "enhencing 2, number of mapping nodes 10, number of enhence nodes 20, accuracy 0.89267\n",
      "enhencing 3, number of mapping nodes 10, number of enhence nodes 25, accuracy 0.89267\n",
      "enhencing 4, number of mapping nodes 10, number of enhence nodes 30, accuracy 0.89267\n",
      "enhencing 5, number of mapping nodes 10, number of enhence nodes 35, accuracy 0.89267\n",
      "enhencing 6, number of mapping nodes 10, number of enhence nodes 40, accuracy 0.89267\n",
      "enhencing 7, number of mapping nodes 10, number of enhence nodes 45, accuracy 0.89267\n",
      "enhencing 8, number of mapping nodes 10, number of enhence nodes 50, accuracy 0.89267\n",
      "enhencing 9, number of mapping nodes 10, number of enhence nodes 55, accuracy 0.89267\n",
      "enhencing 10, number of mapping nodes 10, number of enhence nodes 60, accuracy 0.89267\n",
      "inital setting, number of mapping nodes 10, number of enhence nodes 10, accuracy 0.868\n",
      "enhencing 1, number of mapping nodes 10, number of enhence nodes 15, accuracy 0.868\n",
      "enhencing 2, number of mapping nodes 10, number of enhence nodes 20, accuracy 0.868\n",
      "enhencing 3, number of mapping nodes 10, number of enhence nodes 25, accuracy 0.868\n",
      "enhencing 4, number of mapping nodes 10, number of enhence nodes 30, accuracy 0.868\n",
      "enhencing 5, number of mapping nodes 10, number of enhence nodes 35, accuracy 0.868\n",
      "enhencing 6, number of mapping nodes 10, number of enhence nodes 40, accuracy 0.868\n",
      "enhencing 7, number of mapping nodes 10, number of enhence nodes 45, accuracy 0.868\n",
      "enhencing 8, number of mapping nodes 10, number of enhence nodes 50, accuracy 0.868\n",
      "enhencing 9, number of mapping nodes 10, number of enhence nodes 55, accuracy 0.868\n",
      "enhencing 10, number of mapping nodes 10, number of enhence nodes 60, accuracy 0.868\n",
      "inital setting, number of mapping nodes 10, number of enhence nodes 10, accuracy 0.752\n",
      "enhencing 1, number of mapping nodes 10, number of enhence nodes 15, accuracy 0.752\n",
      "enhencing 2, number of mapping nodes 10, number of enhence nodes 20, accuracy 0.752\n",
      "enhencing 3, number of mapping nodes 10, number of enhence nodes 25, accuracy 0.752\n",
      "enhencing 4, number of mapping nodes 10, number of enhence nodes 30, accuracy 0.752\n",
      "enhencing 5, number of mapping nodes 10, number of enhence nodes 35, accuracy 0.752\n",
      "enhencing 6, number of mapping nodes 10, number of enhence nodes 40, accuracy 0.752\n",
      "enhencing 7, number of mapping nodes 10, number of enhence nodes 45, accuracy 0.752\n",
      "enhencing 8, number of mapping nodes 10, number of enhence nodes 50, accuracy 0.752\n",
      "enhencing 9, number of mapping nodes 10, number of enhence nodes 55, accuracy 0.752\n",
      "enhencing 10, number of mapping nodes 10, number of enhence nodes 60, accuracy 0.752\n",
      "inital setting, number of mapping nodes 10, number of enhence nodes 10, accuracy 0.74467\n",
      "enhencing 1, number of mapping nodes 10, number of enhence nodes 15, accuracy 0.744\n",
      "enhencing 2, number of mapping nodes 10, number of enhence nodes 20, accuracy 0.742\n",
      "enhencing 3, number of mapping nodes 10, number of enhence nodes 25, accuracy 0.73933\n",
      "enhencing 4, number of mapping nodes 10, number of enhence nodes 30, accuracy 0.74267\n",
      "enhencing 5, number of mapping nodes 10, number of enhence nodes 35, accuracy 0.74267\n",
      "enhencing 6, number of mapping nodes 10, number of enhence nodes 40, accuracy 0.74467\n",
      "enhencing 7, number of mapping nodes 10, number of enhence nodes 45, accuracy 0.74467\n",
      "enhencing 8, number of mapping nodes 10, number of enhence nodes 50, accuracy 0.744\n",
      "enhencing 9, number of mapping nodes 10, number of enhence nodes 55, accuracy 0.744\n",
      "enhencing 10, number of mapping nodes 10, number of enhence nodes 60, accuracy 0.74533\n",
      "inital setting, number of mapping nodes 10, number of enhence nodes 10, accuracy 0.986\n",
      "enhencing 1, number of mapping nodes 10, number of enhence nodes 15, accuracy 0.986\n",
      "enhencing 2, number of mapping nodes 10, number of enhence nodes 20, accuracy 0.986\n",
      "enhencing 3, number of mapping nodes 10, number of enhence nodes 25, accuracy 0.986\n",
      "enhencing 4, number of mapping nodes 10, number of enhence nodes 30, accuracy 0.986\n",
      "enhencing 5, number of mapping nodes 10, number of enhence nodes 35, accuracy 0.986\n",
      "enhencing 6, number of mapping nodes 10, number of enhence nodes 40, accuracy 0.986\n",
      "enhencing 7, number of mapping nodes 10, number of enhence nodes 45, accuracy 0.986\n",
      "enhencing 8, number of mapping nodes 10, number of enhence nodes 50, accuracy 0.986\n",
      "enhencing 9, number of mapping nodes 10, number of enhence nodes 55, accuracy 0.986\n",
      "enhencing 10, number of mapping nodes 10, number of enhence nodes 60, accuracy 0.986\n"
     ]
    },
    {
     "data": {
      "text/plain": [
       "0.056"
      ]
     },
     "execution_count": 8,
     "metadata": {},
     "output_type": "execute_result"
    }
   ],
   "source": [
    "from bls_enhence import broadnet_enhence\n",
    "bls = broadnet_enhence(maptimes = 10, \n",
    "                       enhencetimes = 10,\n",
    "                       traintimes = 10,\n",
    "                       map_function = 'tanh',\n",
    "                       enhence_function = 'sigmoid',\n",
    "                       batchsize = 1, \n",
    "                       acc = 1,\n",
    "                       step = 5,\n",
    "                       reg = 0.001)\n",
    "clf =BinaryRelevance(\n",
    "    classifier=bls,\n",
    "    require_dense=[False, True]\n",
    ")\n",
    "clf.fit(X_train.toarray(),y_train.toarray())\n",
    "clf.score(X_test,y_test)\n",
    "clf.score(X_train,y_train)"
   ]
  },
  {
   "cell_type": "code",
   "execution_count": 9,
   "id": "69719d75",
   "metadata": {},
   "outputs": [
    {
     "data": {
      "text/plain": [
       "0.056"
      ]
     },
     "execution_count": 9,
     "metadata": {},
     "output_type": "execute_result"
    }
   ],
   "source": [
    "clf.score(X_train,y_train)"
   ]
  },
  {
   "cell_type": "code",
   "execution_count": 10,
   "id": "8dab3481",
   "metadata": {},
   "outputs": [
    {
     "data": {
      "text/plain": [
       "0.064340239912759"
      ]
     },
     "execution_count": 10,
     "metadata": {},
     "output_type": "execute_result"
    }
   ],
   "source": [
    "clf.score(X_test,y_test)"
   ]
  },
  {
   "cell_type": "code",
   "execution_count": null,
   "id": "1e836f77",
   "metadata": {},
   "outputs": [],
   "source": []
  }
 ],
 "metadata": {
  "kernelspec": {
   "display_name": "Python [conda env:openne] *",
   "language": "python",
   "name": "conda-env-openne-py"
  },
  "language_info": {
   "codemirror_mode": {
    "name": "ipython",
    "version": 3
   },
   "file_extension": ".py",
   "mimetype": "text/x-python",
   "name": "python",
   "nbconvert_exporter": "python",
   "pygments_lexer": "ipython3",
   "version": "3.6.13"
  }
 },
 "nbformat": 4,
 "nbformat_minor": 5
}
