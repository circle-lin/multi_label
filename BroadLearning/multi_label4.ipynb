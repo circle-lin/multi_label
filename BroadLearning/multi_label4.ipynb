{
 "cells": [
  {
   "cell_type": "code",
   "execution_count": 1,
   "id": "734b90b0",
   "metadata": {},
   "outputs": [
    {
     "name": "stdout",
     "output_type": "stream",
     "text": [
      "emotions:train - exists, not redownloading\n",
      "emotions:test - exists, not redownloading\n"
     ]
    }
   ],
   "source": [
    "import numpy\n",
    "import sklearn.metrics as metrics\n",
    "from skmultilearn.dataset import load_dataset\n",
    "import numpy as np\n",
    "import pandas as pd\n",
    "X_train, y_train, feature_names, label_names = load_dataset('emotions', 'train')\n",
    "X_test, y_test, _, _ = load_dataset('emotions', 'test')"
   ]
  },
  {
   "cell_type": "code",
   "execution_count": 5,
   "id": "73e8a840",
   "metadata": {},
   "outputs": [],
   "source": [
    "from skmultilearn.problem_transform import BinaryRelevance\n",
    "from skmultilearn.problem_transform import ClassifierChain\n",
    "from skmultilearn.problem_transform import LabelPowerset\n",
    "from bls_addinput import broadnet_enhmap\n",
    "from bls import broadnet\n",
    "from sklearn.tree import DecisionTreeClassifier\n",
    "from sklearn.ensemble import RandomForestClassifier\n",
    "from sklearn.metrics import accuracy_score,hamming_loss,mean_squared_error"
   ]
  },
  {
   "cell_type": "code",
   "execution_count": 3,
   "id": "8d4752ae",
   "metadata": {},
   "outputs": [],
   "source": [
    "bls = broadnet_enhmap(maptimes = 10, \n",
    "                       enhencetimes = 10,\n",
    "                       traintimes = 10,\n",
    "                       map_function = 'tanh',\n",
    "                       enhence_function = 'sigmoid',\n",
    "                       batchsize = 'auto', \n",
    "                       acc = 1,\n",
    "                       mapstep = 10,\n",
    "                       enhencestep = 10,\n",
    "                       reg = 0.001)"
   ]
  },
  {
   "cell_type": "code",
   "execution_count": 6,
   "id": "5f392953",
   "metadata": {},
   "outputs": [
    {
     "name": "stdout",
     "output_type": "stream",
     "text": [
      "0.18316831683168316\n",
      "0.27722772277227725\n",
      "0.2772277227722772\n"
     ]
    }
   ],
   "source": [
    "clf =BinaryRelevance(\n",
    "    classifier=bls,\n",
    "    require_dense=[False, True]\n",
    ")\n",
    "clf.fit(X_train,y_train)\n",
    "preditions=clf.predict(X_test)\n",
    "print(accuracy_score(y_pred=preditions,y_true=y_test))\n",
    "print(hamming_loss(y_pred=preditions,y_true=y_test))\n",
    "print(mean_squared_error(y_pred=preditions.todense(),y_true=y_test.todense()))"
   ]
  },
  {
   "cell_type": "code",
   "execution_count": 7,
   "id": "a20fe49e",
   "metadata": {},
   "outputs": [],
   "source": [
    "blsnet = broadnet(maptimes = 10,\n",
    "               enhencetimes = 10,\n",
    "               map_function = 'relu',\n",
    "               enhence_function = 'relu',\n",
    "               batchsize = 100,\n",
    "               reg = 0.001)"
   ]
  },
  {
   "cell_type": "code",
   "execution_count": 8,
   "id": "ebcfc8a1",
   "metadata": {},
   "outputs": [
    {
     "name": "stdout",
     "output_type": "stream",
     "text": [
      "number of mapping nodes 1000, number of enhence nodes 1000\n",
      "mapping nodes maxvalue 31.59449 minvalue 0.0 \n",
      "enhence nodes maxvalue 26.52794 minvalue 0.0 \n",
      "number of mapping nodes 1000, number of enhence nodes 1000\n",
      "mapping nodes maxvalue 38.39825 minvalue 0.0 \n",
      "enhence nodes maxvalue 30.19128 minvalue 0.0 \n",
      "number of mapping nodes 1000, number of enhence nodes 1000\n",
      "mapping nodes maxvalue 40.08428 minvalue 0.0 \n",
      "enhence nodes maxvalue 27.39726 minvalue 0.0 \n",
      "number of mapping nodes 1000, number of enhence nodes 1000\n",
      "mapping nodes maxvalue 33.41522 minvalue 0.0 \n",
      "enhence nodes maxvalue 29.7068 minvalue 0.0 \n",
      "number of mapping nodes 1000, number of enhence nodes 1000\n",
      "mapping nodes maxvalue 42.00163 minvalue 0.0 \n",
      "enhence nodes maxvalue 28.02989 minvalue 0.0 \n",
      "number of mapping nodes 1000, number of enhence nodes 1000\n",
      "mapping nodes maxvalue 40.19516 minvalue 0.0 \n",
      "enhence nodes maxvalue 30.65266 minvalue 0.0 \n",
      "0.21287128712871287\n",
      "0.2466996699669967\n",
      "0.24669966996699666\n"
     ]
    }
   ],
   "source": [
    "clf =BinaryRelevance(\n",
    "    classifier=blsnet,\n",
    "    require_dense=[False, True]\n",
    ")\n",
    "clf.fit(X_train,y_train)\n",
    "preditions=clf.predict(X_test)\n",
    "print(accuracy_score(y_pred=preditions,y_true=y_test))\n",
    "print(hamming_loss(y_pred=preditions,y_true=y_test))\n",
    "print(mean_squared_error(y_pred=preditions.todense(),y_true=y_test.todense()))"
   ]
  },
  {
   "cell_type": "code",
   "execution_count": 31,
   "id": "e1d9f4b8",
   "metadata": {},
   "outputs": [],
   "source": [
    "from sklearn.model_selection import GridSearchCV\n",
    "param_grid={\n",
    "    'classifier':[broadnet(maptimes = i,\n",
    "               enhencetimes = 10,\n",
    "               map_function = 'relu',\n",
    "               enhence_function = 'relu',\n",
    "               batchsize = 100,\n",
    "               reg = 0.001) for i in range(10,21,5)]\n",
    "   }"
   ]
  },
  {
   "cell_type": "code",
   "execution_count": 32,
   "id": "c14fa94c",
   "metadata": {},
   "outputs": [],
   "source": [
    "clf =BinaryRelevance(\n",
    "    classifier=blsnet,\n",
    "    require_dense=[False, True]\n",
    ")"
   ]
  },
  {
   "cell_type": "code",
   "execution_count": 34,
   "id": "7e8d159a",
   "metadata": {},
   "outputs": [
    {
     "name": "stdout",
     "output_type": "stream",
     "text": [
      "number of mapping nodes 1000, number of enhence nodes 1000\n",
      "mapping nodes maxvalue 30.86286 minvalue 0.0 \n",
      "enhence nodes maxvalue 25.45601 minvalue 0.0 \n",
      "number of mapping nodes 1000, number of enhence nodes 1000\n",
      "mapping nodes maxvalue 32.91782 minvalue 0.0 \n",
      "enhence nodes maxvalue 22.15023 minvalue 0.0 \n",
      "number of mapping nodes 1000, number of enhence nodes 1000\n",
      "mapping nodes maxvalue 36.33589 minvalue 0.0 \n",
      "enhence nodes maxvalue 22.13486 minvalue 0.0 \n",
      "number of mapping nodes 1000, number of enhence nodes 1000\n",
      "mapping nodes maxvalue 30.87434 minvalue 0.0 \n",
      "enhence nodes maxvalue 21.42247 minvalue 0.0 \n",
      "number of mapping nodes 1000, number of enhence nodes 1000\n",
      "mapping nodes maxvalue 31.09808 minvalue 0.0 \n",
      "enhence nodes maxvalue 23.72936 minvalue 0.0 \n",
      "number of mapping nodes 1000, number of enhence nodes 1000\n",
      "mapping nodes maxvalue 37.9217 minvalue 0.0 \n",
      "enhence nodes maxvalue 22.11432 minvalue 0.0 \n",
      "number of mapping nodes 1000, number of enhence nodes 1000\n",
      "mapping nodes maxvalue 40.10109 minvalue 0.0 \n",
      "enhence nodes maxvalue 30.14772 minvalue 0.0 \n",
      "number of mapping nodes 1000, number of enhence nodes 1000\n",
      "mapping nodes maxvalue 36.4398 minvalue 0.0 \n",
      "enhence nodes maxvalue 31.18898 minvalue 0.0 \n",
      "number of mapping nodes 1000, number of enhence nodes 1000\n",
      "mapping nodes maxvalue 38.9574 minvalue 0.0 \n",
      "enhence nodes maxvalue 31.27621 minvalue 0.0 \n",
      "number of mapping nodes 1000, number of enhence nodes 1000\n",
      "mapping nodes maxvalue 36.56917 minvalue 0.0 \n",
      "enhence nodes maxvalue 27.00291 minvalue 0.0 \n",
      "number of mapping nodes 1000, number of enhence nodes 1000\n",
      "mapping nodes maxvalue 38.67351 minvalue 0.0 \n",
      "enhence nodes maxvalue 29.18307 minvalue 0.0 \n",
      "number of mapping nodes 1000, number of enhence nodes 1000\n",
      "mapping nodes maxvalue 34.00295 minvalue 0.0 \n",
      "enhence nodes maxvalue 25.07057 minvalue 0.0 \n",
      "number of mapping nodes 1500, number of enhence nodes 1000\n",
      "mapping nodes maxvalue 45.13568 minvalue 0.0 \n",
      "enhence nodes maxvalue 27.39094 minvalue 0.0 \n",
      "number of mapping nodes 1500, number of enhence nodes 1000\n",
      "mapping nodes maxvalue 36.90334 minvalue 0.0 \n",
      "enhence nodes maxvalue 26.6341 minvalue 0.0 \n",
      "number of mapping nodes 1500, number of enhence nodes 1000\n",
      "mapping nodes maxvalue 31.98507 minvalue 0.0 \n",
      "enhence nodes maxvalue 25.19213 minvalue 0.0 \n",
      "number of mapping nodes 1500, number of enhence nodes 1000\n",
      "mapping nodes maxvalue 33.30921 minvalue 0.0 \n",
      "enhence nodes maxvalue 24.97923 minvalue 0.0 \n",
      "number of mapping nodes 1500, number of enhence nodes 1000\n",
      "mapping nodes maxvalue 38.50552 minvalue 0.0 \n",
      "enhence nodes maxvalue 25.10476 minvalue 0.0 \n",
      "number of mapping nodes 1500, number of enhence nodes 1000\n",
      "mapping nodes maxvalue 33.49881 minvalue 0.0 \n",
      "enhence nodes maxvalue 23.98439 minvalue 0.0 \n",
      "number of mapping nodes 1500, number of enhence nodes 1000\n",
      "mapping nodes maxvalue 32.39864 minvalue 0.0 \n",
      "enhence nodes maxvalue 29.01264 minvalue 0.0 \n",
      "number of mapping nodes 1500, number of enhence nodes 1000\n",
      "mapping nodes maxvalue 38.76012 minvalue 0.0 \n",
      "enhence nodes maxvalue 26.95392 minvalue 0.0 \n",
      "number of mapping nodes 1500, number of enhence nodes 1000\n",
      "mapping nodes maxvalue 35.06558 minvalue 0.0 \n",
      "enhence nodes maxvalue 33.103 minvalue 0.0 \n",
      "number of mapping nodes 1500, number of enhence nodes 1000\n",
      "mapping nodes maxvalue 36.59315 minvalue 0.0 \n",
      "enhence nodes maxvalue 31.12686 minvalue 0.0 \n",
      "number of mapping nodes 1500, number of enhence nodes 1000\n",
      "mapping nodes maxvalue 43.04506 minvalue 0.0 \n",
      "enhence nodes maxvalue 30.5158 minvalue 0.0 \n",
      "number of mapping nodes 1500, number of enhence nodes 1000\n",
      "mapping nodes maxvalue 36.91218 minvalue 0.0 \n",
      "enhence nodes maxvalue 26.34 minvalue 0.0 \n",
      "number of mapping nodes 2000, number of enhence nodes 1000\n",
      "mapping nodes maxvalue 37.3142 minvalue 0.0 \n",
      "enhence nodes maxvalue 27.90305 minvalue 0.0 \n",
      "number of mapping nodes 2000, number of enhence nodes 1000\n",
      "mapping nodes maxvalue 39.14814 minvalue 0.0 \n",
      "enhence nodes maxvalue 24.84565 minvalue 0.0 \n",
      "number of mapping nodes 2000, number of enhence nodes 1000\n",
      "mapping nodes maxvalue 32.81035 minvalue 0.0 \n",
      "enhence nodes maxvalue 24.80589 minvalue 0.0 \n",
      "number of mapping nodes 2000, number of enhence nodes 1000\n",
      "mapping nodes maxvalue 37.46493 minvalue 0.0 \n",
      "enhence nodes maxvalue 25.50823 minvalue 0.0 \n",
      "number of mapping nodes 2000, number of enhence nodes 1000\n",
      "mapping nodes maxvalue 31.08125 minvalue 0.0 \n",
      "enhence nodes maxvalue 28.70482 minvalue 0.0 \n",
      "number of mapping nodes 2000, number of enhence nodes 1000\n",
      "mapping nodes maxvalue 37.90148 minvalue 0.0 \n",
      "enhence nodes maxvalue 24.12118 minvalue 0.0 \n",
      "number of mapping nodes 2000, number of enhence nodes 1000\n",
      "mapping nodes maxvalue 39.98678 minvalue 0.0 \n",
      "enhence nodes maxvalue 26.03627 minvalue 0.0 \n",
      "number of mapping nodes 2000, number of enhence nodes 1000\n",
      "mapping nodes maxvalue 46.18482 minvalue 0.0 \n",
      "enhence nodes maxvalue 28.5047 minvalue 0.0 \n",
      "number of mapping nodes 2000, number of enhence nodes 1000\n",
      "mapping nodes maxvalue 47.06931 minvalue 0.0 \n",
      "enhence nodes maxvalue 24.3968 minvalue 0.0 \n",
      "number of mapping nodes 2000, number of enhence nodes 1000\n",
      "mapping nodes maxvalue 42.06876 minvalue 0.0 \n",
      "enhence nodes maxvalue 27.50376 minvalue 0.0 \n",
      "number of mapping nodes 2000, number of enhence nodes 1000\n",
      "mapping nodes maxvalue 39.17599 minvalue 0.0 \n",
      "enhence nodes maxvalue 26.39108 minvalue 0.0 \n",
      "number of mapping nodes 2000, number of enhence nodes 1000\n",
      "mapping nodes maxvalue 35.71227 minvalue 0.0 \n",
      "enhence nodes maxvalue 35.44378 minvalue 0.0 \n",
      "number of mapping nodes 1000, number of enhence nodes 1000\n",
      "mapping nodes maxvalue 44.3011 minvalue 0.0 \n",
      "enhence nodes maxvalue 29.17576 minvalue 0.0 \n",
      "number of mapping nodes 1000, number of enhence nodes 1000\n",
      "mapping nodes maxvalue 42.47429 minvalue 0.0 \n",
      "enhence nodes maxvalue 25.88268 minvalue 0.0 \n",
      "number of mapping nodes 1000, number of enhence nodes 1000\n",
      "mapping nodes maxvalue 36.44388 minvalue 0.0 \n",
      "enhence nodes maxvalue 28.37672 minvalue 0.0 \n",
      "number of mapping nodes 1000, number of enhence nodes 1000\n",
      "mapping nodes maxvalue 34.60679 minvalue 0.0 \n",
      "enhence nodes maxvalue 28.88508 minvalue 0.0 \n",
      "number of mapping nodes 1000, number of enhence nodes 1000\n",
      "mapping nodes maxvalue 38.26691 minvalue 0.0 \n",
      "enhence nodes maxvalue 25.15737 minvalue 0.0 \n",
      "number of mapping nodes 1000, number of enhence nodes 1000\n",
      "mapping nodes maxvalue 34.92681 minvalue 0.0 \n",
      "enhence nodes maxvalue 29.92224 minvalue 0.0 \n",
      "{'mean_fit_time': array([13.19918537, 14.71760762, 16.65796816]), 'std_fit_time': array([0.52909851, 0.03290594, 0.08923686]), 'mean_score_time': array([0.08579803, 0.12117589, 0.1650722 ]), 'std_score_time': array([0.00099921, 0.00349081, 0.00148129]), 'param_classifier': masked_array(data=[<bls.broadnet object at 0x00000182ADD2BC88>,\n",
      "                   <bls.broadnet object at 0x00000182ADD2B3C8>,\n",
      "                   <bls.broadnet object at 0x00000182ADD2BE48>],\n",
      "             mask=[False, False, False],\n",
      "       fill_value='?',\n",
      "            dtype=object), 'params': [{'classifier': <bls.broadnet object at 0x00000182ADD2BC88>}, {'classifier': <bls.broadnet object at 0x00000182ADD2B3C8>}, {'classifier': <bls.broadnet object at 0x00000182ADD2BE48>}], 'split0_test_score': array([0.18367347, 0.14795918, 0.19897959]), 'split1_test_score': array([0.16923077, 0.14871795, 0.13333333]), 'mean_test_score': array([0.17647059, 0.1483376 , 0.16624041]), 'std_test_score': array([0.00722133, 0.00037938, 0.03282302]), 'rank_test_score': array([1, 3, 2]), 'split0_train_score': array([1., 1., 1.]), 'split1_train_score': array([1., 1., 1.]), 'mean_train_score': array([1., 1., 1.]), 'std_train_score': array([0., 0., 0.])}\n"
     ]
    }
   ],
   "source": [
    "grid_cv = GridSearchCV(clf, param_grid, scoring=\"accuracy\", cv=2)\n",
    "grid_cv.fit(X_train, y_train)\n",
    " \n",
    "print(grid_cv.cv_results_)"
   ]
  },
  {
   "cell_type": "code",
   "execution_count": null,
   "id": "495ee747",
   "metadata": {},
   "outputs": [],
   "source": []
  }
 ],
 "metadata": {
  "kernelspec": {
   "display_name": "Python [conda env:openne] *",
   "language": "python",
   "name": "conda-env-openne-py"
  },
  "language_info": {
   "codemirror_mode": {
    "name": "ipython",
    "version": 3
   },
   "file_extension": ".py",
   "mimetype": "text/x-python",
   "name": "python",
   "nbconvert_exporter": "python",
   "pygments_lexer": "ipython3",
   "version": "3.6.13"
  }
 },
 "nbformat": 4,
 "nbformat_minor": 5
}
