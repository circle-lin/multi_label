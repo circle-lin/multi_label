{
 "cells": [
  {
   "cell_type": "code",
   "execution_count": 3,
   "id": "b2542113",
   "metadata": {},
   "outputs": [],
   "source": [
    "from bls_enhmap import broadnet_enhmap,show_accuracy\n",
    "from sklearn.datasets import load_iris\n",
    "from sklearn.model_selection import train_test_split"
   ]
  },
  {
   "cell_type": "code",
   "execution_count": 4,
   "id": "ae96a55f",
   "metadata": {},
   "outputs": [
    {
     "name": "stdout",
     "output_type": "stream",
     "text": [
      "(120, 4) (120,) (30, 4) (30,)\n"
     ]
    }
   ],
   "source": [
    "iris=load_iris()\n",
    "X = iris.data\n",
    "Y = iris.target\n",
    "traindata,testdata,trainlabel,testlabel = train_test_split(X,Y,test_size=0.2,random_state = 2018)\n",
    "print(traindata.shape,trainlabel.shape,testdata.shape,testlabel.shape)"
   ]
  },
  {
   "cell_type": "code",
   "execution_count": 10,
   "id": "75e433a2",
   "metadata": {},
   "outputs": [],
   "source": [
    "bls = broadnet_enhmap(maptimes = 10, \n",
    "                       enhencetimes = 10,\n",
    "                       traintimes = 10,\n",
    "                       map_function = 'linear',\n",
    "                       enhence_function = 'sigmoid',\n",
    "                       batchsize = 'auto', \n",
    "                       acc = 1,\n",
    "                       mapstep = 5,\n",
    "                       enhencestep = 5,\n",
    "                       reg = 0.001)"
   ]
  },
  {
   "cell_type": "code",
   "execution_count": 11,
   "id": "3c03de6a",
   "metadata": {},
   "outputs": [
    {
     "name": "stdout",
     "output_type": "stream",
     "text": [
      "inital setting, number of mapping nodes 40, number of enhence nodes 40, accuracy 0.99167\n",
      "adding 1, number of mapping nodes 60, number of enhence nodes 60, accuracy 0.99167\n",
      "adding 2, number of mapping nodes 80, number of enhence nodes 80, accuracy 0.99167\n",
      "adding 3, number of mapping nodes 100, number of enhence nodes 100, accuracy 0.99167\n",
      "adding 4, number of mapping nodes 120, number of enhence nodes 120, accuracy 0.99167\n",
      "adding 5, number of mapping nodes 140, number of enhence nodes 140, accuracy 0.99167\n",
      "adding 6, number of mapping nodes 160, number of enhence nodes 160, accuracy 0.99167\n",
      "adding 7, number of mapping nodes 180, number of enhence nodes 180, accuracy 0.99167\n",
      "adding 8, number of mapping nodes 200, number of enhence nodes 200, accuracy 0.99167\n",
      "adding 9, number of mapping nodes 220, number of enhence nodes 220, accuracy 0.99167\n",
      "adding 10, number of mapping nodes 240, number of enhence nodes 240, accuracy 0.99167\n",
      "(30,)\n",
      "0.96667\n",
      "(120,)\n",
      "0.99167\n"
     ]
    }
   ],
   "source": [
    "bls.fit(traindata,trainlabel)\n",
    "predictlabel = bls.predict(testdata)\n",
    "print(predictlabel.shape)\n",
    "print(show_accuracy(predictlabel,testlabel))\n",
    "predictlabel = bls.predict(traindata)\n",
    "print(predictlabel.shape)\n",
    "print(show_accuracy(predictlabel,trainlabel))"
   ]
  },
  {
   "cell_type": "code",
   "execution_count": 12,
   "id": "220d084b",
   "metadata": {},
   "outputs": [
    {
     "name": "stdout",
     "output_type": "stream",
     "text": [
      "[0 2 0 1 2 0 0 0 0 1 0 2 2 2 2 0 1 2 1 1 1 0 1 0 0 0 1 0 1 1 0 2 1 0 0 2 2\n",
      " 0 2 2 1 2 1 2 0 1 1 1 0 1 1 1 1 0 2 2 2 0 1 1 1 2 0 0 1 0 0 1 1 1 2 2 0 2\n",
      " 2 0 1 2 2 2 2 1 1 1 2 1 0 2 0 0 1 1 2 0 2 0 1 1 2 2 2 2 0 2 1 2 0 0 2 2 0\n",
      " 2 0 1 1 1 0 2 0 2]\n"
     ]
    }
   ],
   "source": [
    "print(predictlabel)"
   ]
  },
  {
   "cell_type": "code",
   "execution_count": 13,
   "id": "512e2bed",
   "metadata": {},
   "outputs": [
    {
     "data": {
      "text/plain": [
       "array([0, 2, 0, 1, 2, 0, 0, 0, 0, 1, 0, 2, 2, 2, 2, 0, 1, 2, 1, 1, 1, 0,\n",
       "       1, 0, 0, 0, 1, 0, 1, 1, 0, 2, 1, 0, 0, 2, 2, 0, 2, 2, 1, 2, 1, 2,\n",
       "       0, 1, 1, 1, 0, 1, 1, 1, 1, 0, 2, 2, 2, 0, 1, 1, 1, 1, 0, 0, 1, 0,\n",
       "       0, 1, 1, 1, 2, 2, 0, 2, 2, 0, 1, 2, 2, 2, 2, 1, 1, 1, 2, 1, 0, 2,\n",
       "       0, 0, 1, 1, 2, 0, 2, 0, 1, 1, 2, 2, 2, 2, 0, 2, 1, 2, 0, 0, 2, 2,\n",
       "       0, 2, 0, 1, 1, 1, 0, 2, 0, 2])"
      ]
     },
     "execution_count": 13,
     "metadata": {},
     "output_type": "execute_result"
    }
   ],
   "source": [
    "trainlabel"
   ]
  },
  {
   "cell_type": "code",
   "execution_count": null,
   "id": "2dc261c3",
   "metadata": {},
   "outputs": [],
   "source": []
  }
 ],
 "metadata": {
  "kernelspec": {
   "display_name": "Python [conda env:openne] *",
   "language": "python",
   "name": "conda-env-openne-py"
  },
  "language_info": {
   "codemirror_mode": {
    "name": "ipython",
    "version": 3
   },
   "file_extension": ".py",
   "mimetype": "text/x-python",
   "name": "python",
   "nbconvert_exporter": "python",
   "pygments_lexer": "ipython3",
   "version": "3.6.13"
  }
 },
 "nbformat": 4,
 "nbformat_minor": 5
}
