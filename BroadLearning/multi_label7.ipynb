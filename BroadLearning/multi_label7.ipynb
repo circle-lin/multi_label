{
 "cells": [
  {
   "cell_type": "code",
   "execution_count": 1,
   "id": "4c5fd69b",
   "metadata": {},
   "outputs": [],
   "source": [
    "from sklearn.datasets import make_multilabel_classification\n",
    "from bls1 import broadnet\n",
    "from sklearn.model_selection import train_test_split\n",
    "import numpy as np\n",
    "import pandas as pd\n",
    "from skmultilearn.dataset import load_dataset\n",
    "from skmultilearn.dataset import available_data_sets"
   ]
  },
  {
   "cell_type": "code",
   "execution_count": 2,
   "id": "4f401197",
   "metadata": {},
   "outputs": [
    {
     "data": {
      "text/plain": [
       "{'Corel5k',\n",
       " 'bibtex',\n",
       " 'birds',\n",
       " 'delicious',\n",
       " 'emotions',\n",
       " 'enron',\n",
       " 'genbase',\n",
       " 'mediamill',\n",
       " 'medical',\n",
       " 'rcv1subset1',\n",
       " 'rcv1subset2',\n",
       " 'rcv1subset3',\n",
       " 'rcv1subset4',\n",
       " 'rcv1subset5',\n",
       " 'scene',\n",
       " 'tmc2007_500',\n",
       " 'yeast'}"
      ]
     },
     "execution_count": 2,
     "metadata": {},
     "output_type": "execute_result"
    }
   ],
   "source": [
    "set([x[0] for x in available_data_sets().keys()])"
   ]
  },
  {
   "cell_type": "code",
   "execution_count": 3,
   "id": "ff0c0b11",
   "metadata": {},
   "outputs": [
    {
     "name": "stdout",
     "output_type": "stream",
     "text": [
      "enron:train - does not exists downloading\n",
      "Downloaded enron-train\n",
      "enron:test - does not exists downloading\n",
      "Downloaded enron-test\n"
     ]
    }
   ],
   "source": [
    "X_train, y_train, feature_names, label_names = load_dataset('enron', 'train')\n",
    "X_test, y_test, _, _ = load_dataset('enron', 'test')"
   ]
  },
  {
   "cell_type": "code",
   "execution_count": 4,
   "id": "e61fa3d0",
   "metadata": {},
   "outputs": [
    {
     "name": "stdout",
     "output_type": "stream",
     "text": [
      "(1123, 1001) (1123, 53)\n"
     ]
    }
   ],
   "source": [
    "print(X_train.shape,y_train.shape)"
   ]
  },
  {
   "cell_type": "code",
   "execution_count": 5,
   "id": "33651d6b",
   "metadata": {},
   "outputs": [],
   "source": [
    "bls = broadnet(maptimes = 30,\n",
    "               enhencetimes = 30,\n",
    "               map_function = 'relu',\n",
    "               enhence_function = 'sigmoid',\n",
    "               batchsize = 100,\n",
    "               reg = 0.001)"
   ]
  },
  {
   "cell_type": "code",
   "execution_count": 6,
   "id": "ea97c48c",
   "metadata": {},
   "outputs": [
    {
     "name": "stdout",
     "output_type": "stream",
     "text": [
      "number of mapping nodes 3000, number of enhence nodes 3000\n",
      "mapping nodes maxvalue 263.85565 minvalue 0.0 \n",
      "enhence nodes maxvalue 1.0 minvalue 0.0 \n"
     ]
    }
   ],
   "source": [
    "bls.fit(X_train,y_train)"
   ]
  },
  {
   "cell_type": "code",
   "execution_count": 7,
   "id": "43ceb880",
   "metadata": {},
   "outputs": [
    {
     "name": "stdout",
     "output_type": "stream",
     "text": [
      "[0.28251259381104143, 0.2896360927856991, 0.2977973568281938, 0.30443686006825943, 0.3120216649005063, 0.3181818181818182, 0.32653575025176235, 0.33428423236514515, 0.34037433155080216, 0.3448749656499038, 0.3518413597733711, 0.3577448416158094, 0.3625037080984871, 0.36990691286433697, 0.3750778816199377, 0.3774486383182035, 0.382300309093867, 0.3866133866133866, 0.3873812754409769, 0.3916422034190986, 0.3964819700967459, 0.3982808022922636, 0.40124019697246033, 0.40490341753343234, 0.4076893795203654, 0.41119691119691115, 0.41422676360778155, 0.4148089171974522, 0.41590954976781747, 0.41722800571545215, 0.4201785343574839, 0.42180593559250684, 0.42545920546774885, 0.42752055387278237, 0.4278497693828245, 0.428, 0.4288604180714767, 0.4317663167503423, 0.43395789960675457, 0.43527204502814265, 0.436830835117773, 0.4376357056694813, 0.44059526713832636, 0.43843696239862373, 0.4379489720089175, 0.4355, 0.4342337793486493, 0.4326530612244898, 0.4325857179685486, 0.4315460697553357, 0.4314654038410945, 0.43153969099627065, 0.43265086206896547, 0.433931484502447, 0.433708482020313, 0.4314159292035398, 0.42896935933147634, 0.4265616207090602, 0.4260992907801418, 0.4253005151688609, 0.42275483684666476, 0.42086855144272806, 0.41703377386196766, 0.41328194485621106, 0.4120633024783517, 0.4126506024096385, 0.40862173649058897, 0.406623735050598, 0.4057971014492754, 0.4043478260869565, 0.4016341923318668, 0.40088804313352366, 0.3982102908277405, 0.3972955569864778, 0.3920804933463162, 0.3917727717923604, 0.38896189224704336, 0.3865213082259663, 0.38471760797342197, 0.3780160857908848]\n",
      "The best threshold is 0.5199999999999998\n"
     ]
    }
   ],
   "source": [
    "bls.decoder_alpha(X_test,y_test)"
   ]
  },
  {
   "cell_type": "code",
   "execution_count": 8,
   "id": "01d816b8",
   "metadata": {},
   "outputs": [],
   "source": [
    "predition=bls.predict(X_test)"
   ]
  },
  {
   "cell_type": "code",
   "execution_count": 9,
   "id": "a224fdd5",
   "metadata": {},
   "outputs": [
    {
     "name": "stdout",
     "output_type": "stream",
     "text": [
      "0.07944732297063903\n",
      "0.07472219506631472\n",
      "0.44059526713832636\n"
     ]
    }
   ],
   "source": [
    "from sklearn.metrics import accuracy_score\n",
    "from sklearn.metrics import hamming_loss,f1_score,mean_squared_error\n",
    "print(accuracy_score(y_pred=predition,y_true=y_test))\n",
    "print(hamming_loss(y_pred=predition,y_true=y_test))\n",
    "print(f1_score(y_pred=predition,y_true=y_test,average='micro'))"
   ]
  },
  {
   "cell_type": "code",
   "execution_count": 10,
   "id": "1c120552",
   "metadata": {},
   "outputs": [],
   "source": [
    "from sklearn.tree import DecisionTreeClassifier"
   ]
  },
  {
   "cell_type": "code",
   "execution_count": 11,
   "id": "070cb34f",
   "metadata": {},
   "outputs": [
    {
     "data": {
      "text/plain": [
       "DecisionTreeClassifier(class_weight=None, criterion='gini', max_depth=None,\n",
       "            max_features=None, max_leaf_nodes=None,\n",
       "            min_impurity_decrease=0.0, min_impurity_split=None,\n",
       "            min_samples_leaf=1, min_samples_split=2,\n",
       "            min_weight_fraction_leaf=0.0, presort=False, random_state=None,\n",
       "            splitter='best')"
      ]
     },
     "execution_count": 11,
     "metadata": {},
     "output_type": "execute_result"
    }
   ],
   "source": [
    "dtc=DecisionTreeClassifier()\n",
    "dtc.fit(X_train.toarray(),y_train.toarray())"
   ]
  },
  {
   "cell_type": "code",
   "execution_count": 12,
   "id": "34895f70",
   "metadata": {},
   "outputs": [
    {
     "name": "stdout",
     "output_type": "stream",
     "text": [
      "0.10535405872193437\n",
      "0.06527193925766611\n",
      "0.4611245628194781\n"
     ]
    }
   ],
   "source": [
    "predition=dtc.predict(X_test)\n",
    "print(accuracy_score(y_pred=predition,y_true=y_test))\n",
    "print(hamming_loss(y_pred=predition,y_true=y_test))\n",
    "print(f1_score(y_pred=predition,y_true=y_test,average='micro'))"
   ]
  },
  {
   "cell_type": "code",
   "execution_count": 13,
   "id": "33568a77",
   "metadata": {},
   "outputs": [
    {
     "name": "stderr",
     "output_type": "stream",
     "text": [
      "D:\\anaconda3\\envs\\openne\\lib\\site-packages\\sklearn\\ensemble\\weight_boosting.py:29: DeprecationWarning: numpy.core.umath_tests is an internal NumPy module and should not be imported. It will be removed in a future NumPy release.\n",
      "  from numpy.core.umath_tests import inner1d\n"
     ]
    }
   ],
   "source": [
    "from sklearn.ensemble import RandomForestClassifier"
   ]
  },
  {
   "cell_type": "code",
   "execution_count": 14,
   "id": "8048243f",
   "metadata": {},
   "outputs": [
    {
     "data": {
      "text/plain": [
       "RandomForestClassifier(bootstrap=True, class_weight=None, criterion='gini',\n",
       "            max_depth=None, max_features='auto', max_leaf_nodes=None,\n",
       "            min_impurity_decrease=0.0, min_impurity_split=None,\n",
       "            min_samples_leaf=1, min_samples_split=2,\n",
       "            min_weight_fraction_leaf=0.0, n_estimators=10, n_jobs=1,\n",
       "            oob_score=False, random_state=None, verbose=0,\n",
       "            warm_start=False)"
      ]
     },
     "execution_count": 14,
     "metadata": {},
     "output_type": "execute_result"
    }
   ],
   "source": [
    "RFC=RandomForestClassifier(n_estimators=10)\n",
    "RFC.fit(X_train.toarray(),y_train.toarray())\n"
   ]
  },
  {
   "cell_type": "code",
   "execution_count": 15,
   "id": "107e9553",
   "metadata": {},
   "outputs": [
    {
     "name": "stdout",
     "output_type": "stream",
     "text": [
      "0.10189982728842832\n",
      "0.04976048489588425\n",
      "0.49453823237338634\n"
     ]
    }
   ],
   "source": [
    "predition=RFC.predict(X_test)\n",
    "print(accuracy_score(y_pred=predition,y_true=y_test))\n",
    "print(hamming_loss(y_pred=predition,y_true=y_test))\n",
    "print(f1_score(y_pred=predition,y_true=y_test,average='micro'))"
   ]
  },
  {
   "cell_type": "code",
   "execution_count": null,
   "id": "75278e5d",
   "metadata": {},
   "outputs": [],
   "source": []
  }
 ],
 "metadata": {
  "kernelspec": {
   "display_name": "Python [conda env:openne] *",
   "language": "python",
   "name": "conda-env-openne-py"
  },
  "language_info": {
   "codemirror_mode": {
    "name": "ipython",
    "version": 3
   },
   "file_extension": ".py",
   "mimetype": "text/x-python",
   "name": "python",
   "nbconvert_exporter": "python",
   "pygments_lexer": "ipython3",
   "version": "3.6.13"
  }
 },
 "nbformat": 4,
 "nbformat_minor": 5
}
