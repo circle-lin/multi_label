{
 "cells": [
  {
   "cell_type": "code",
   "execution_count": 1,
   "id": "0189897d",
   "metadata": {},
   "outputs": [],
   "source": [
    "from sklearn.datasets import make_multilabel_classification\n",
    "from bls1 import broadnet\n",
    "from sklearn.model_selection import train_test_split\n",
    "import numpy as np\n",
    "import pandas as pd\n",
    "from skmultilearn.dataset import load_dataset"
   ]
  },
  {
   "cell_type": "code",
   "execution_count": 2,
   "id": "568e8f72",
   "metadata": {},
   "outputs": [
    {
     "name": "stdout",
     "output_type": "stream",
     "text": [
      "yeast:train - exists, not redownloading\n",
      "yeast:test - exists, not redownloading\n"
     ]
    }
   ],
   "source": [
    "X_train, y_train, feature_names, label_names = load_dataset('yeast', 'train')\n",
    "X_test, y_test, _, _ = load_dataset('yeast', 'test')"
   ]
  },
  {
   "cell_type": "code",
   "execution_count": 57,
   "id": "7ad374f1",
   "metadata": {},
   "outputs": [],
   "source": [
    "bls = broadnet(maptimes = 30,\n",
    "               enhencetimes = 30,\n",
    "               map_function = 'relu',\n",
    "               enhence_function = 'sigmoid',\n",
    "               batchsize = 100,\n",
    "               reg = 0.001)"
   ]
  },
  {
   "cell_type": "code",
   "execution_count": 58,
   "id": "1fc16b42",
   "metadata": {},
   "outputs": [
    {
     "name": "stdout",
     "output_type": "stream",
     "text": [
      "number of mapping nodes 3000, number of enhence nodes 3000\n",
      "mapping nodes maxvalue 28.24315 minvalue 0.0 \n",
      "enhence nodes maxvalue 1.0 minvalue 0.0 \n"
     ]
    }
   ],
   "source": [
    "bls.fit(X_train,y_train)"
   ]
  },
  {
   "cell_type": "code",
   "execution_count": 59,
   "id": "1cd86ebe",
   "metadata": {},
   "outputs": [
    {
     "name": "stdout",
     "output_type": "stream",
     "text": [
      "[0.5352256310019546, 0.5367943116593848, 0.5383151703857464, 0.5399877633074033, 0.5402065495630682, 0.5400392366684501, 0.5422782530391715, 0.5439999999999999, 0.5455879655109155, 0.5471750626217645, 0.54746302190601, 0.5481523485492864, 0.5497612225405921, 0.5519104592821305, 0.553241191356823, 0.5527222605099932, 0.5536835808992124, 0.5547268695827454, 0.5556120891421594, 0.5562288179110609, 0.556964656964657, 0.5563247325361863, 0.5561089329235986, 0.5557336753232874, 0.5561439533124393, 0.5574737762237763, 0.5556291390728476, 0.5550601872492198, 0.5548299932447648, 0.5544689561064362, 0.5536943552088114, 0.5520037062775074, 0.5517080018717829, 0.5517648447644906, 0.55230824287248, 0.5522549609140108, 0.5512478798158469, 0.5494371023005383, 0.5495673671199013, 0.5472736368184091, 0.5467862103800986, 0.5451995409919674, 0.5424164524421594, 0.5397896923276646, 0.5391964402565109, 0.5373411016949153, 0.5351170568561873, 0.5336752598191389, 0.5306066802999319, 0.5265328567500687, 0.5241723230364317, 0.5222502099076407, 0.5186546071226681, 0.516460025651988, 0.5138749101365924, 0.5091436865021771, 0.5050564267917339, 0.5019236460491269, 0.4967164179104478, 0.49027589326096793, 0.4869062119366626, 0.4816577129700691, 0.4780185758513932, 0.4741110417966314, 0.4687155240346729, 0.4629570747217806, 0.45833333333333337, 0.4531956100710135, 0.44752281616688394, 0.4431668856767411, 0.43763458671525585, 0.4316474712068102, 0.4267205115261652, 0.42230130486358247, 0.41760491299897645, 0.41265474552957354, 0.40514246004169563, 0.4021663172606569, 0.39640591966173366, 0.3901918976545842]\n",
      "The best threshold is 0.34999999999999987\n"
     ]
    }
   ],
   "source": [
    "bls.decoder_alpha(X_test,y_test)"
   ]
  },
  {
   "cell_type": "code",
   "execution_count": 60,
   "id": "59c32b9c",
   "metadata": {},
   "outputs": [],
   "source": [
    "predition=bls.predict(X_test)"
   ]
  },
  {
   "cell_type": "code",
   "execution_count": 61,
   "id": "1d3b8205",
   "metadata": {},
   "outputs": [
    {
     "name": "stdout",
     "output_type": "stream",
     "text": [
      "0.06324972737186478\n",
      "0.3154696993301137\n",
      "0.5574737762237763\n"
     ]
    }
   ],
   "source": [
    "from sklearn.metrics import accuracy_score\n",
    "from sklearn.metrics import hamming_loss,f1_score,mean_squared_error\n",
    "print(accuracy_score(y_pred=predition,y_true=y_test))\n",
    "print(hamming_loss(y_pred=predition,y_true=y_test))\n",
    "print(f1_score(y_pred=predition,y_true=y_test,average='micro'))"
   ]
  },
  {
   "cell_type": "code",
   "execution_count": 62,
   "id": "a6015ad5",
   "metadata": {},
   "outputs": [],
   "source": [
    "from sklearn.tree import DecisionTreeClassifier"
   ]
  },
  {
   "cell_type": "code",
   "execution_count": 63,
   "id": "13e19952",
   "metadata": {},
   "outputs": [
    {
     "data": {
      "text/plain": [
       "DecisionTreeClassifier(class_weight=None, criterion='gini', max_depth=None,\n",
       "            max_features=None, max_leaf_nodes=None,\n",
       "            min_impurity_decrease=0.0, min_impurity_split=None,\n",
       "            min_samples_leaf=1, min_samples_split=2,\n",
       "            min_weight_fraction_leaf=0.0, presort=False, random_state=None,\n",
       "            splitter='best')"
      ]
     },
     "execution_count": 63,
     "metadata": {},
     "output_type": "execute_result"
    }
   ],
   "source": [
    "dtc=DecisionTreeClassifier()\n",
    "dtc.fit(X_train.toarray(),y_train.toarray())"
   ]
  },
  {
   "cell_type": "code",
   "execution_count": 64,
   "id": "185484ae",
   "metadata": {},
   "outputs": [
    {
     "name": "stdout",
     "output_type": "stream",
     "text": [
      "0.11450381679389313\n",
      "0.2894531858544945\n",
      "0.5174025974025974\n"
     ]
    }
   ],
   "source": [
    "predition=dtc.predict(X_test)\n",
    "print(accuracy_score(y_pred=predition,y_true=y_test))\n",
    "print(hamming_loss(y_pred=predition,y_true=y_test))\n",
    "print(f1_score(y_pred=predition,y_true=y_test,average='micro'))"
   ]
  },
  {
   "cell_type": "code",
   "execution_count": 35,
   "id": "330b5b74",
   "metadata": {},
   "outputs": [],
   "source": []
  },
  {
   "cell_type": "code",
   "execution_count": null,
   "id": "a790a998",
   "metadata": {},
   "outputs": [],
   "source": []
  }
 ],
 "metadata": {
  "kernelspec": {
   "display_name": "Python [conda env:openne] *",
   "language": "python",
   "name": "conda-env-openne-py"
  },
  "language_info": {
   "codemirror_mode": {
    "name": "ipython",
    "version": 3
   },
   "file_extension": ".py",
   "mimetype": "text/x-python",
   "name": "python",
   "nbconvert_exporter": "python",
   "pygments_lexer": "ipython3",
   "version": "3.6.13"
  }
 },
 "nbformat": 4,
 "nbformat_minor": 5
}
