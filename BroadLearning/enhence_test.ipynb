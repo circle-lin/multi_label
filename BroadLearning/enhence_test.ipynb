{
 "cells": [
  {
   "cell_type": "code",
   "execution_count": 1,
   "id": "53bcc811",
   "metadata": {},
   "outputs": [],
   "source": [
    "from sklearn.datasets import make_multilabel_classification\n",
    "from bls2 import broadnet\n",
    "import bagging1\n",
    "from bls_enhence1 import broadnet_enhence\n",
    "from sklearn.model_selection import train_test_split\n",
    "import numpy as np\n",
    "import pandas as pd\n",
    "from skmultilearn.dataset import load_dataset\n",
    "from skmultilearn.dataset import available_data_sets\n",
    "from sklearn.metrics import accuracy_score\n",
    "from sklearn.metrics import hamming_loss,f1_score,mean_squared_error"
   ]
  },
  {
   "cell_type": "code",
   "execution_count": 2,
   "id": "27f96aff",
   "metadata": {},
   "outputs": [
    {
     "data": {
      "text/plain": [
       "{'Corel5k',\n",
       " 'bibtex',\n",
       " 'birds',\n",
       " 'delicious',\n",
       " 'emotions',\n",
       " 'enron',\n",
       " 'genbase',\n",
       " 'mediamill',\n",
       " 'medical',\n",
       " 'rcv1subset1',\n",
       " 'rcv1subset2',\n",
       " 'rcv1subset3',\n",
       " 'rcv1subset4',\n",
       " 'rcv1subset5',\n",
       " 'scene',\n",
       " 'tmc2007_500',\n",
       " 'yeast'}"
      ]
     },
     "execution_count": 2,
     "metadata": {},
     "output_type": "execute_result"
    }
   ],
   "source": [
    "set([x[0] for x in available_data_sets().keys()])"
   ]
  },
  {
   "cell_type": "code",
   "execution_count": 3,
   "id": "0e996ab5",
   "metadata": {},
   "outputs": [
    {
     "name": "stdout",
     "output_type": "stream",
     "text": [
      "yeast:train - exists, not redownloading\n",
      "yeast:test - exists, not redownloading\n"
     ]
    }
   ],
   "source": [
    "X_train, y_train, feature_names, label_names = load_dataset('yeast', 'train')\n",
    "X_test, y_test, _, _ = load_dataset('yeast', 'test')\n"
   ]
  },
  {
   "cell_type": "code",
   "execution_count": 4,
   "id": "c2bb2f26",
   "metadata": {},
   "outputs": [],
   "source": [
    "bls = broadnet_enhence(maptimes = 10,\n",
    "                       enhencetimes = 20,\n",
    "                       traintimes = 5,\n",
    "                       map_function = 'tanh',\n",
    "                       enhence_function = 'sigmoid',\n",
    "                       batchsize = 'auto',\n",
    "                       acc = 1,\n",
    "                       step = 5,\n",
    "                       reg = 0.001)"
   ]
  },
  {
   "cell_type": "code",
   "execution_count": 5,
   "id": "2d7dafbb",
   "metadata": {},
   "outputs": [
    {
     "name": "stdout",
     "output_type": "stream",
     "text": [
      "inital setting, number of mapping nodes 1030, number of enhence nodes 2060, accuracy 0.96167\n",
      "enhencing 1, number of mapping nodes 1030, number of enhence nodes 2575, accuracy 1.0\n",
      "inital setting, number of mapping nodes 1030, number of enhence nodes 2060, accuracy 0.95667\n",
      "enhencing 1, number of mapping nodes 1030, number of enhence nodes 2575, accuracy 1.0\n",
      "inital setting, number of mapping nodes 1030, number of enhence nodes 2060, accuracy 0.97\n",
      "enhencing 1, number of mapping nodes 1030, number of enhence nodes 2575, accuracy 1.0\n",
      "inital setting, number of mapping nodes 1030, number of enhence nodes 2060, accuracy 0.97167\n",
      "enhencing 1, number of mapping nodes 1030, number of enhence nodes 2575, accuracy 1.0\n",
      "inital setting, number of mapping nodes 1030, number of enhence nodes 2060, accuracy 0.97167\n",
      "enhencing 1, number of mapping nodes 1030, number of enhence nodes 2575, accuracy 1.0\n",
      "inital setting, number of mapping nodes 1030, number of enhence nodes 2060, accuracy 0.975\n",
      "enhencing 1, number of mapping nodes 1030, number of enhence nodes 2575, accuracy 1.0\n",
      "inital setting, number of mapping nodes 1030, number of enhence nodes 2060, accuracy 0.96667\n",
      "enhencing 1, number of mapping nodes 1030, number of enhence nodes 2575, accuracy 1.0\n",
      "inital setting, number of mapping nodes 1030, number of enhence nodes 2060, accuracy 0.97333\n",
      "enhencing 1, number of mapping nodes 1030, number of enhence nodes 2575, accuracy 1.0\n",
      "inital setting, number of mapping nodes 1030, number of enhence nodes 2060, accuracy 0.97\n",
      "enhencing 1, number of mapping nodes 1030, number of enhence nodes 2575, accuracy 1.0\n",
      "inital setting, number of mapping nodes 1030, number of enhence nodes 2060, accuracy 0.97333\n",
      "enhencing 1, number of mapping nodes 1030, number of enhence nodes 2575, accuracy 1.0\n",
      "inital setting, number of mapping nodes 1030, number of enhence nodes 2060, accuracy 0.97\n",
      "enhencing 1, number of mapping nodes 1030, number of enhence nodes 2575, accuracy 1.0\n",
      "inital setting, number of mapping nodes 1030, number of enhence nodes 2060, accuracy 0.965\n",
      "enhencing 1, number of mapping nodes 1030, number of enhence nodes 2575, accuracy 1.0\n",
      "inital setting, number of mapping nodes 1030, number of enhence nodes 2060, accuracy 0.965\n",
      "enhencing 1, number of mapping nodes 1030, number of enhence nodes 2575, accuracy 1.0\n",
      "inital setting, number of mapping nodes 1030, number of enhence nodes 2060, accuracy 0.97333\n",
      "enhencing 1, number of mapping nodes 1030, number of enhence nodes 2575, accuracy 1.0\n",
      "inital setting, number of mapping nodes 1030, number of enhence nodes 2060, accuracy 0.97\n",
      "enhencing 1, number of mapping nodes 1030, number of enhence nodes 2575, accuracy 1.0\n",
      "inital setting, number of mapping nodes 1030, number of enhence nodes 2060, accuracy 0.97\n",
      "enhencing 1, number of mapping nodes 1030, number of enhence nodes 2575, accuracy 1.0\n",
      "inital setting, number of mapping nodes 1030, number of enhence nodes 2060, accuracy 0.96167\n",
      "enhencing 1, number of mapping nodes 1030, number of enhence nodes 2575, accuracy 1.0\n",
      "inital setting, number of mapping nodes 1030, number of enhence nodes 2060, accuracy 0.96667\n",
      "enhencing 1, number of mapping nodes 1030, number of enhence nodes 2575, accuracy 1.0\n",
      "inital setting, number of mapping nodes 1030, number of enhence nodes 2060, accuracy 0.97333\n",
      "enhencing 1, number of mapping nodes 1030, number of enhence nodes 2575, accuracy 1.0\n",
      "inital setting, number of mapping nodes 1030, number of enhence nodes 2060, accuracy 0.97333\n",
      "enhencing 1, number of mapping nodes 1030, number of enhence nodes 2575, accuracy 1.0\n",
      "[0.1353919415524312, 0.14833153066538465, 0.1260674256628808, 0.1542481483929015, 0.17466438020578126, 0.1314054488892961, 0.11209555118533934, 0.12863119770201062, 0.20218932388135272, 0.1866139620175378, 0.10542530779014761, 0.16635981534140412, 0.15925166506703883, 0.1545518098493084, 0.15399493845405646, 0.11496608822223822, 0.1, 0.13652011202260264, 0.12026833448443444, 0.11961421298170108]\n",
      "[0.9566336659410692, 1.048060426108344, 0.8907497904587756, 1.0898652458173108, 1.2341194345076651, 0.9284664571186352, 0.7920292510510228, 0.9088645365530267, 1.4286013768689574, 1.3185511379308452, 0.7448995672700246, 1.1754421879953387, 1.1252184023175715, 1.0920108149620966, 1.0880761500316045, 0.8123114948636264, 0.7065661774047373, 0.9646049369067686, 0.8497753735950119, 0.8451535722975663]\n",
      "[[ 3.60140157  5.48213087  4.88558834 ... 18.91013475 18.1181055\n",
      "   1.23411943]\n",
      " [ 0.92846646  6.45515621 15.17191538 ... 14.99776713 15.0306092\n",
      "   0.81231149]\n",
      " [ 4.80644008 10.43460536  1.77691643 ... 16.35977433 14.2393977\n",
      "   1.31855114]\n",
      " ...\n",
      " [ 7.95821419  9.10770197  2.86499258 ... 18.19821276 17.61476496\n",
      "   0.        ]\n",
      " [ 3.94629738 10.29166856  6.60340994 ... 18.26409664 19.07153354\n",
      "   0.        ]\n",
      " [ 4.44590805  4.18780345  5.8158087  ... 18.34253493 18.39565925\n",
      "   1.08986525]]\n",
      "0.1504907306434024\n",
      "0.2024458638417199\n",
      "0.6244762317584165\n"
     ]
    }
   ],
   "source": [
    "bagging_net=bagging1.bagging_net(10,bls,True)\n",
    "bagging_net.fit(X_train,y_train)\n",
    "predition=bagging_net.predict(X_test)\n",
    "print(accuracy_score(y_pred=predition,y_true=y_test))\n",
    "print(hamming_loss(y_pred=predition,y_true=y_test))\n",
    "print(f1_score(y_pred=predition,y_true=y_test,average='micro'))"
   ]
  },
  {
   "cell_type": "code",
   "execution_count": 6,
   "id": "f5ecd8ec",
   "metadata": {},
   "outputs": [
    {
     "name": "stdout",
     "output_type": "stream",
     "text": [
      "[[ 3.60140157  5.48213087  4.88558834 ... 18.91013475 18.1181055\n",
      "   1.23411943]\n",
      " [ 0.92846646  6.45515621 15.17191538 ... 14.99776713 15.0306092\n",
      "   0.81231149]\n",
      " [ 4.80644008 10.43460536  1.77691643 ... 16.35977433 14.2393977\n",
      "   1.31855114]\n",
      " ...\n",
      " [ 7.95821419  9.10770197  2.86499258 ... 18.19821276 17.61476496\n",
      "   0.        ]\n",
      " [ 3.94629738 10.29166856  6.60340994 ... 18.26409664 19.07153354\n",
      "   0.        ]\n",
      " [ 4.44590805  4.18780345  5.8158087  ... 18.34253493 18.39565925\n",
      "   1.08986525]]\n"
     ]
    },
    {
     "data": {
      "text/plain": [
       "matrix([[0., 0., 0., ..., 1., 1., 0.],\n",
       "        [0., 0., 1., ..., 1., 1., 0.],\n",
       "        [0., 1., 0., ..., 1., 1., 0.],\n",
       "        ...,\n",
       "        [0., 0., 0., ..., 1., 1., 0.],\n",
       "        [0., 1., 0., ..., 1., 1., 0.],\n",
       "        [0., 0., 0., ..., 1., 1., 0.]])"
      ]
     },
     "execution_count": 6,
     "metadata": {},
     "output_type": "execute_result"
    }
   ],
   "source": [
    "bagging_net.predict(X_test)"
   ]
  },
  {
   "cell_type": "code",
   "execution_count": 7,
   "id": "e8cd5757",
   "metadata": {},
   "outputs": [
    {
     "name": "stdout",
     "output_type": "stream",
     "text": [
      "inital setting, number of mapping nodes 1030, number of enhence nodes 2060, accuracy 0.95133\n",
      "enhencing 1, number of mapping nodes 1030, number of enhence nodes 2575, accuracy 1.0\n"
     ]
    }
   ],
   "source": [
    "bls.fit(X_train,y_train)"
   ]
  },
  {
   "cell_type": "code",
   "execution_count": 8,
   "id": "2179a596",
   "metadata": {},
   "outputs": [
    {
     "name": "stdout",
     "output_type": "stream",
     "text": [
      "0.019629225736095966\n",
      "0.32684218725658204\n",
      "0.48978599221789887\n"
     ]
    }
   ],
   "source": [
    "\n",
    "predition=bls.predict(X_test)\n",
    "print(accuracy_score(y_pred=predition,y_true=y_test))\n",
    "print(hamming_loss(y_pred=predition,y_true=y_test))\n",
    "print(f1_score(y_pred=predition,y_true=y_test,average='micro'))"
   ]
  },
  {
   "cell_type": "code",
   "execution_count": 9,
   "id": "fdfae528",
   "metadata": {},
   "outputs": [],
   "source": [
    "from sklearn.tree import DecisionTreeClassifier"
   ]
  },
  {
   "cell_type": "code",
   "execution_count": 10,
   "id": "0560fddc",
   "metadata": {},
   "outputs": [
    {
     "data": {
      "text/plain": [
       "DecisionTreeClassifier(class_weight=None, criterion='gini', max_depth=None,\n",
       "            max_features=None, max_leaf_nodes=None,\n",
       "            min_impurity_decrease=0.0, min_impurity_split=None,\n",
       "            min_samples_leaf=1, min_samples_split=2,\n",
       "            min_weight_fraction_leaf=0.0, presort=False, random_state=None,\n",
       "            splitter='best')"
      ]
     },
     "execution_count": 10,
     "metadata": {},
     "output_type": "execute_result"
    }
   ],
   "source": [
    "dtc=DecisionTreeClassifier()\n",
    "dtc.fit(X_train.toarray(),y_train.toarray())"
   ]
  },
  {
   "cell_type": "code",
   "execution_count": 11,
   "id": "53fd1e6d",
   "metadata": {},
   "outputs": [
    {
     "name": "stdout",
     "output_type": "stream",
     "text": [
      "0.1134133042529989\n",
      "0.2867269045022589\n",
      "0.5243571520868331\n"
     ]
    }
   ],
   "source": [
    "predition=dtc.predict(X_test)\n",
    "print(accuracy_score(y_pred=predition,y_true=y_test))\n",
    "print(hamming_loss(y_pred=predition,y_true=y_test))\n",
    "print(f1_score(y_pred=predition,y_true=y_test,average='micro'))"
   ]
  },
  {
   "cell_type": "code",
   "execution_count": 12,
   "id": "07ea9841",
   "metadata": {},
   "outputs": [
    {
     "name": "stderr",
     "output_type": "stream",
     "text": [
      "D:\\anaconda3\\envs\\openne\\lib\\site-packages\\sklearn\\ensemble\\weight_boosting.py:29: DeprecationWarning: numpy.core.umath_tests is an internal NumPy module and should not be imported. It will be removed in a future NumPy release.\n",
      "  from numpy.core.umath_tests import inner1d\n"
     ]
    }
   ],
   "source": [
    "from sklearn.ensemble import RandomForestClassifier"
   ]
  },
  {
   "cell_type": "code",
   "execution_count": 13,
   "id": "e559e6eb",
   "metadata": {},
   "outputs": [
    {
     "data": {
      "text/plain": [
       "RandomForestClassifier(bootstrap=True, class_weight=None, criterion='gini',\n",
       "            max_depth=None, max_features='auto', max_leaf_nodes=None,\n",
       "            min_impurity_decrease=0.0, min_impurity_split=None,\n",
       "            min_samples_leaf=1, min_samples_split=2,\n",
       "            min_weight_fraction_leaf=0.0, n_estimators=100, n_jobs=1,\n",
       "            oob_score=False, random_state=None, verbose=0,\n",
       "            warm_start=False)"
      ]
     },
     "execution_count": 13,
     "metadata": {},
     "output_type": "execute_result"
    }
   ],
   "source": [
    "RFC=RandomForestClassifier(n_estimators=100)\n",
    "RFC.fit(X_train.toarray(),y_train.toarray())\n"
   ]
  },
  {
   "cell_type": "code",
   "execution_count": 14,
   "id": "80fd8674",
   "metadata": {},
   "outputs": [
    {
     "name": "stdout",
     "output_type": "stream",
     "text": [
      "0.15921483097055616\n",
      "0.19675961987848575\n",
      "0.6173886700999697\n"
     ]
    }
   ],
   "source": [
    "predition=RFC.predict(X_test)\n",
    "print(accuracy_score(y_pred=predition,y_true=y_test))\n",
    "print(hamming_loss(y_pred=predition,y_true=y_test))\n",
    "print(f1_score(y_pred=predition,y_true=y_test,average='micro'))"
   ]
  },
  {
   "cell_type": "code",
   "execution_count": null,
   "id": "e505ffdb",
   "metadata": {},
   "outputs": [],
   "source": []
  }
 ],
 "metadata": {
  "kernelspec": {
   "display_name": "Python [conda env:openne] *",
   "language": "python",
   "name": "conda-env-openne-py"
  },
  "language_info": {
   "codemirror_mode": {
    "name": "ipython",
    "version": 3
   },
   "file_extension": ".py",
   "mimetype": "text/x-python",
   "name": "python",
   "nbconvert_exporter": "python",
   "pygments_lexer": "ipython3",
   "version": "3.6.13"
  }
 },
 "nbformat": 4,
 "nbformat_minor": 5
}
