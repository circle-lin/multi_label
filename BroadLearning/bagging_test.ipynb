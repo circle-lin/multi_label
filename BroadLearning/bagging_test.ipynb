{
 "cells": [
  {
   "cell_type": "code",
   "execution_count": 1,
   "id": "c6f1c92e",
   "metadata": {},
   "outputs": [
    {
     "name": "stderr",
     "output_type": "stream",
     "text": [
      "D:\\anaconda3\\envs\\openne\\lib\\site-packages\\sklearn\\ensemble\\weight_boosting.py:29: DeprecationWarning: numpy.core.umath_tests is an internal NumPy module and should not be imported. It will be removed in a future NumPy release.\n",
      "  from numpy.core.umath_tests import inner1d\n"
     ]
    }
   ],
   "source": [
    "from sklearn.datasets import make_multilabel_classification\n",
    "# from bls2 import broadnet\n",
    "import bls1,bls3\n",
    "from sklearn.model_selection import train_test_split\n",
    "import numpy as np\n",
    "import pandas as pd\n",
    "from skmultilearn.dataset import load_dataset\n",
    "from skmultilearn.dataset import available_data_sets\n",
    "from sklearn.metrics import accuracy_score,hamming_loss,f1_score\n",
    "from sklearn.ensemble import BaggingClassifier\n",
    "from sklearn.tree import DecisionTreeClassifier\n",
    "from sklearn.model_selection import train_test_split\n",
    "import matplotlib.pyplot as plt\n",
    "from random import seed\n",
    "from random import randrange,random\n",
    "from csv import reader"
   ]
  },
  {
   "cell_type": "code",
   "execution_count": 2,
   "id": "4c6e23a5",
   "metadata": {},
   "outputs": [
    {
     "data": {
      "text/plain": [
       "{'Corel5k',\n",
       " 'bibtex',\n",
       " 'birds',\n",
       " 'delicious',\n",
       " 'emotions',\n",
       " 'enron',\n",
       " 'genbase',\n",
       " 'mediamill',\n",
       " 'medical',\n",
       " 'rcv1subset1',\n",
       " 'rcv1subset2',\n",
       " 'rcv1subset3',\n",
       " 'rcv1subset4',\n",
       " 'rcv1subset5',\n",
       " 'scene',\n",
       " 'tmc2007_500',\n",
       " 'yeast'}"
      ]
     },
     "execution_count": 2,
     "metadata": {},
     "output_type": "execute_result"
    }
   ],
   "source": [
    "set([x[0] for x in available_data_sets().keys()])"
   ]
  },
  {
   "cell_type": "code",
   "execution_count": 3,
   "id": "cd04d47e",
   "metadata": {},
   "outputs": [
    {
     "name": "stdout",
     "output_type": "stream",
     "text": [
      "yeast:train - exists, not redownloading\n",
      "yeast:test - exists, not redownloading\n"
     ]
    }
   ],
   "source": [
    "X_train, y_train, feature_names, label_names = load_dataset('yeast', 'train')\n",
    "X_test, y_test, _, _ = load_dataset('yeast', 'test')\n",
    "X=np.vstack([X_train.toarray(),X_test.toarray()])\n",
    "y=np.vstack([y_train.toarray(),y_test.toarray()])"
   ]
  },
  {
   "cell_type": "code",
   "execution_count": 4,
   "id": "c69cda11",
   "metadata": {},
   "outputs": [],
   "source": [
    "def subsample(dataset, labelset,ratio=0.6):\n",
    "    n_sample = round(dataset.shape[0] * ratio)\n",
    "    sample = np.ndarray((n_sample,dataset.shape[1]))\n",
    "    label=np.ndarray((n_sample,labelset.shape[1]))\n",
    "    for i in range(n_sample):\n",
    "        index = randrange(dataset.shape[0])\n",
    "        sample[i]=dataset[index]\n",
    "        label[i]=labelset[index]\n",
    "    return sample,label"
   ]
  },
  {
   "cell_type": "code",
   "execution_count": 5,
   "id": "38d0753c",
   "metadata": {},
   "outputs": [],
   "source": [
    "sample,label=subsample(X,y)"
   ]
  },
  {
   "cell_type": "code",
   "execution_count": 6,
   "id": "a3c4e298",
   "metadata": {},
   "outputs": [],
   "source": [
    "bls = bls3.broadnet(maptimes = 30,\n",
    "               enhencetimes = 40,\n",
    "               map_function = 'relu',\n",
    "               enhence_function = 'sigmoid',\n",
    "               batchsize = 100,\n",
    "               reg = 0.001)"
   ]
  },
  {
   "cell_type": "code",
   "execution_count": 7,
   "id": "35142164",
   "metadata": {},
   "outputs": [
    {
     "name": "stdout",
     "output_type": "stream",
     "text": [
      "number of mapping nodes 3000, number of enhence nodes 4000\n",
      "mapping nodes maxvalue 30.12475 minvalue 0.0 \n",
      "enhence nodes maxvalue 1.0 minvalue 0.0 \n"
     ]
    }
   ],
   "source": [
    "bls.fit(sample,label)"
   ]
  },
  {
   "cell_type": "code",
   "execution_count": 8,
   "id": "24f1330a",
   "metadata": {},
   "outputs": [
    {
     "data": {
      "text/plain": [
       "[0.6499999999999997,\n",
       " 0.6899999999999997,\n",
       " 0.8399999999999996,\n",
       " 0.18999999999999995,\n",
       " 0.7099999999999996,\n",
       " 0.8399999999999996,\n",
       " 0.6499999999999997,\n",
       " 0.3899999999999999,\n",
       " 0.48999999999999977,\n",
       " 0.7499999999999997,\n",
       " 0.5299999999999998,\n",
       " 0.21999999999999995,\n",
       " 0.1,\n",
       " 0.2699999999999999]"
      ]
     },
     "execution_count": 8,
     "metadata": {},
     "output_type": "execute_result"
    }
   ],
   "source": [
    "bls.alpha"
   ]
  },
  {
   "cell_type": "code",
   "execution_count": 9,
   "id": "1fb1c030",
   "metadata": {},
   "outputs": [
    {
     "name": "stdout",
     "output_type": "stream",
     "text": [
      "number of mapping nodes 3000, number of enhence nodes 4000\n",
      "mapping nodes maxvalue 26.51949 minvalue 0.0 \n",
      "enhence nodes maxvalue 1.0 minvalue 0.0 \n",
      "number of mapping nodes 3000, number of enhence nodes 4000\n",
      "mapping nodes maxvalue 28.86175 minvalue 0.0 \n",
      "enhence nodes maxvalue 1.0 minvalue 0.0 \n",
      "number of mapping nodes 3000, number of enhence nodes 4000\n",
      "mapping nodes maxvalue 28.55748 minvalue 0.0 \n",
      "enhence nodes maxvalue 1.0 minvalue 0.0 \n",
      "number of mapping nodes 3000, number of enhence nodes 4000\n",
      "mapping nodes maxvalue 28.6844 minvalue 0.0 \n",
      "enhence nodes maxvalue 1.0 minvalue 0.0 \n",
      "number of mapping nodes 3000, number of enhence nodes 4000\n",
      "mapping nodes maxvalue 27.49324 minvalue 0.0 \n",
      "enhence nodes maxvalue 1.0 minvalue 0.0 \n",
      "number of mapping nodes 3000, number of enhence nodes 4000\n",
      "mapping nodes maxvalue 28.96667 minvalue 0.0 \n",
      "enhence nodes maxvalue 1.0 minvalue 0.0 \n",
      "number of mapping nodes 3000, number of enhence nodes 4000\n",
      "mapping nodes maxvalue 29.33297 minvalue 0.0 \n",
      "enhence nodes maxvalue 1.0 minvalue 0.0 \n",
      "number of mapping nodes 3000, number of enhence nodes 4000\n",
      "mapping nodes maxvalue 27.07585 minvalue 0.0 \n",
      "enhence nodes maxvalue 1.0 minvalue 0.0 \n",
      "number of mapping nodes 3000, number of enhence nodes 4000\n",
      "mapping nodes maxvalue 29.01914 minvalue 0.0 \n",
      "enhence nodes maxvalue 1.0 minvalue 0.0 \n",
      "number of mapping nodes 3000, number of enhence nodes 4000\n",
      "mapping nodes maxvalue 29.11304 minvalue 0.0 \n",
      "enhence nodes maxvalue 1.0 minvalue 0.0 \n"
     ]
    }
   ],
   "source": [
    "pred=[]\n",
    "for i in range(10):\n",
    "    sample,label=subsample(X_train.toarray(),y_train.toarray())\n",
    "    bls = bls3.broadnet(maptimes = 30,\n",
    "               enhencetimes = 40,\n",
    "               map_function = 'relu',\n",
    "               enhence_function = 'sigmoid',\n",
    "               batchsize = 100,\n",
    "               reg = 0.001)\n",
    "    bls.fit(sample,label)\n",
    "    pred.append(bls.predict(X_test))"
   ]
  },
  {
   "cell_type": "code",
   "execution_count": 10,
   "id": "a9f4acea",
   "metadata": {},
   "outputs": [
    {
     "data": {
      "text/plain": [
       "numpy.matrix"
      ]
     },
     "execution_count": 10,
     "metadata": {},
     "output_type": "execute_result"
    }
   ],
   "source": [
    "type(pred[1])"
   ]
  },
  {
   "cell_type": "code",
   "execution_count": 11,
   "id": "931852bf",
   "metadata": {},
   "outputs": [
    {
     "data": {
      "text/plain": [
       "matrix([[ 1.,  1.,  0., ...,  9., 10.,  0.],\n",
       "        [ 0.,  1.,  8., ...,  5.,  7.,  0.],\n",
       "        [ 4.,  9.,  3., ...,  7.,  6.,  0.],\n",
       "        ...,\n",
       "        [ 3.,  4.,  8., ...,  4.,  5.,  0.],\n",
       "        [ 2.,  7.,  6., ..., 10., 10.,  0.],\n",
       "        [10.,  6.,  6., ...,  9.,  9.,  0.]])"
      ]
     },
     "execution_count": 11,
     "metadata": {},
     "output_type": "execute_result"
    }
   ],
   "source": [
    "pred_sum=pred[0]\n",
    "for i in range(1,len(pred)):\n",
    "    pred_sum+=pred[i]\n",
    "pred_sum"
   ]
  },
  {
   "cell_type": "code",
   "execution_count": 12,
   "id": "848b8177",
   "metadata": {},
   "outputs": [
    {
     "data": {
      "text/plain": [
       "matrix([[0., 0., 0., ..., 1., 1., 0.],\n",
       "        [0., 0., 1., ..., 1., 1., 0.],\n",
       "        [0., 1., 0., ..., 1., 1., 0.],\n",
       "        ...,\n",
       "        [0., 0., 1., ..., 0., 1., 0.],\n",
       "        [0., 1., 1., ..., 1., 1., 0.],\n",
       "        [1., 1., 1., ..., 1., 1., 0.]])"
      ]
     },
     "execution_count": 12,
     "metadata": {},
     "output_type": "execute_result"
    }
   ],
   "source": [
    "pred_sum[pred_sum<5]=0\n",
    "pred_sum[pred_sum>=5]=1\n",
    "pred_sum"
   ]
  },
  {
   "cell_type": "code",
   "execution_count": 13,
   "id": "aacc5355",
   "metadata": {},
   "outputs": [
    {
     "data": {
      "text/plain": [
       "0.17011995637949837"
      ]
     },
     "execution_count": 13,
     "metadata": {},
     "output_type": "execute_result"
    }
   ],
   "source": [
    "accuracy_score(y_pred=pred_sum,y_true=y_test.toarray())"
   ]
  },
  {
   "cell_type": "code",
   "execution_count": 14,
   "id": "b06e2e31",
   "metadata": {},
   "outputs": [
    {
     "data": {
      "text/plain": [
       "0.11886586695747"
      ]
     },
     "execution_count": 14,
     "metadata": {},
     "output_type": "execute_result"
    }
   ],
   "source": [
    "dtc=DecisionTreeClassifier()\n",
    "dtc.fit(X_train.toarray(),y_train.toarray())\n",
    "dtc.score(X_test.toarray(),y_test.toarray())"
   ]
  },
  {
   "cell_type": "code",
   "execution_count": 15,
   "id": "ccfcdfed",
   "metadata": {},
   "outputs": [
    {
     "data": {
      "text/plain": [
       "0.6563106796116506"
      ]
     },
     "execution_count": 15,
     "metadata": {},
     "output_type": "execute_result"
    }
   ],
   "source": [
    "f1_score(y_pred=pred_sum,y_true=y_test,average='micro')"
   ]
  },
  {
   "cell_type": "code",
   "execution_count": 16,
   "id": "99f369ee",
   "metadata": {},
   "outputs": [],
   "source": [
    "from multiprocessing.dummy import Pool"
   ]
  },
  {
   "cell_type": "code",
   "execution_count": 17,
   "id": "fb6a04fb",
   "metadata": {},
   "outputs": [
    {
     "data": {
      "text/plain": [
       "[0, 0, 0, 0, 0, 0, 0, 0, 0, 0]"
      ]
     },
     "execution_count": 17,
     "metadata": {},
     "output_type": "execute_result"
    }
   ],
   "source": [
    "predition=[0 for i in range(10)]\n",
    "predition"
   ]
  },
  {
   "cell_type": "code",
   "execution_count": 18,
   "id": "8e6f2ca6",
   "metadata": {},
   "outputs": [],
   "source": [
    "def bagging_net(i):\n",
    "    bls = bls3.broadnet(maptimes = 30,\n",
    "               enhencetimes = 40,\n",
    "               map_function = 'relu',\n",
    "               enhence_function = 'sigmoid',\n",
    "               batchsize = 100,\n",
    "               reg = 0.001)\n",
    "    sample,label=subsample(X_train.toarray(),y_train.toarray())\n",
    "    bls.fit(sample,label)\n",
    "    pred=bls.predict(X_test.toarray())\n",
    "    predition[i]=pred"
   ]
  },
  {
   "cell_type": "code",
   "execution_count": 19,
   "id": "74c352e6",
   "metadata": {},
   "outputs": [
    {
     "name": "stdout",
     "output_type": "stream",
     "text": [
      "number of mapping nodes 3000, number of enhence nodes 4000\n",
      "mapping nodes maxvalue 28.64543 minvalue 0.0 \n",
      "enhence nodes maxvalue 1.0 minvalue 0.0 \n"
     ]
    }
   ],
   "source": [
    "bagging_net(1)"
   ]
  },
  {
   "cell_type": "code",
   "execution_count": 20,
   "id": "20a497ce",
   "metadata": {},
   "outputs": [
    {
     "name": "stdout",
     "output_type": "stream",
     "text": [
      "number of mapping nodes 3000, number of enhence nodes 4000\n",
      "mapping nodes maxvalue 26.80949 minvalue 0.0 \n",
      "enhence nodes maxvalue 1.0 minvalue 0.0 \n",
      "number of mapping nodes 3000, number of enhence nodes 4000\n",
      "mapping nodes maxvalue 26.64694 minvalue 0.0 \n",
      "enhence nodes maxvalue 1.0 minvalue 0.0 \n",
      "number of mapping nodes 3000, number of enhence nodes 4000\n",
      "mapping nodes maxvalue 26.66545 minvalue 0.0 \n",
      "number of mapping nodes 3000, number of enhence nodes 4000enhence nodes maxvalue 1.0 minvalue 0.0 \n",
      "\n",
      "mapping nodes maxvalue 28.80375 minvalue 0.0 \n",
      "enhence nodes maxvalue 1.0 minvalue 0.0 \n",
      "number of mapping nodes 3000, number of enhence nodes 4000\n",
      "mapping nodes maxvalue 27.60255 minvalue 0.0 \n",
      "enhence nodes maxvalue 1.0 minvalue 0.0 \n",
      "number of mapping nodes 3000, number of enhence nodes 4000\n",
      "mapping nodes maxvalue 27.49997 minvalue 0.0 \n",
      "enhence nodes maxvalue 1.0 minvalue 0.0 \n",
      "number of mapping nodes 3000, number of enhence nodes 4000\n",
      "mapping nodes maxvalue 27.72365 minvalue 0.0 \n",
      "enhence nodes maxvalue 1.0 minvalue 0.0 \n",
      "number of mapping nodes 3000, number of enhence nodes 4000\n",
      "mapping nodes maxvalue 26.77438 minvalue 0.0 \n",
      "enhence nodes maxvalue 1.0 minvalue 0.0 \n",
      "number of mapping nodes 3000, number of enhence nodes 4000\n",
      "mapping nodes maxvalue 25.4341 minvalue 0.0 \n",
      "enhence nodes maxvalue 1.0 minvalue 0.0 \n",
      "number of mapping nodes 3000, number of enhence nodes 4000\n",
      "mapping nodes maxvalue 27.60291 minvalue 0.0 \n",
      "enhence nodes maxvalue 1.0 minvalue 0.0 \n"
     ]
    }
   ],
   "source": [
    "items=[i for i in range(10)]\n",
    "p=Pool(10)\n",
    "p.map(bagging_net,items)\n",
    "p.close()\n",
    "p.join()"
   ]
  },
  {
   "cell_type": "code",
   "execution_count": 21,
   "id": "08214a25",
   "metadata": {},
   "outputs": [
    {
     "data": {
      "text/plain": [
       "[matrix([[0., 0., 0., ..., 1., 1., 0.],\n",
       "         [0., 1., 1., ..., 1., 1., 0.],\n",
       "         [0., 0., 0., ..., 1., 1., 0.],\n",
       "         ...,\n",
       "         [1., 1., 0., ..., 0., 0., 0.],\n",
       "         [0., 0., 0., ..., 1., 1., 0.],\n",
       "         [1., 1., 0., ..., 1., 1., 0.]]),\n",
       " matrix([[0., 1., 1., ..., 1., 1., 0.],\n",
       "         [0., 0., 1., ..., 0., 0., 0.],\n",
       "         [0., 0., 0., ..., 1., 1., 0.],\n",
       "         ...,\n",
       "         [0., 0., 1., ..., 0., 0., 0.],\n",
       "         [0., 1., 1., ..., 1., 1., 0.],\n",
       "         [1., 1., 1., ..., 1., 1., 0.]]),\n",
       " matrix([[0., 0., 0., ..., 1., 1., 0.],\n",
       "         [0., 1., 1., ..., 1., 1., 0.],\n",
       "         [0., 1., 1., ..., 1., 1., 0.],\n",
       "         ...,\n",
       "         [0., 1., 1., ..., 1., 1., 0.],\n",
       "         [0., 1., 1., ..., 1., 1., 0.],\n",
       "         [0., 1., 1., ..., 1., 1., 0.]]),\n",
       " matrix([[0., 0., 0., ..., 1., 1., 0.],\n",
       "         [0., 1., 1., ..., 1., 1., 0.],\n",
       "         [0., 1., 1., ..., 1., 1., 0.],\n",
       "         ...,\n",
       "         [0., 1., 1., ..., 0., 0., 0.],\n",
       "         [0., 1., 1., ..., 1., 1., 0.],\n",
       "         [0., 1., 1., ..., 1., 1., 0.]]),\n",
       " matrix([[0., 0., 0., ..., 1., 1., 0.],\n",
       "         [0., 1., 1., ..., 1., 1., 0.],\n",
       "         [0., 0., 0., ..., 1., 1., 0.],\n",
       "         ...,\n",
       "         [0., 1., 0., ..., 1., 1., 0.],\n",
       "         [0., 1., 1., ..., 1., 1., 0.],\n",
       "         [0., 0., 0., ..., 1., 1., 0.]]),\n",
       " matrix([[0., 0., 0., ..., 1., 1., 0.],\n",
       "         [0., 0., 1., ..., 0., 0., 0.],\n",
       "         [0., 1., 0., ..., 1., 1., 0.],\n",
       "         ...,\n",
       "         [0., 1., 1., ..., 1., 1., 0.],\n",
       "         [0., 1., 1., ..., 1., 1., 0.],\n",
       "         [0., 0., 1., ..., 1., 1., 0.]]),\n",
       " matrix([[0., 1., 0., ..., 1., 1., 0.],\n",
       "         [0., 0., 1., ..., 0., 0., 0.],\n",
       "         [0., 1., 1., ..., 0., 0., 0.],\n",
       "         ...,\n",
       "         [0., 0., 0., ..., 1., 1., 0.],\n",
       "         [0., 1., 0., ..., 1., 1., 0.],\n",
       "         [1., 0., 0., ..., 1., 1., 0.]]),\n",
       " matrix([[0., 0., 0., ..., 1., 1., 0.],\n",
       "         [0., 0., 0., ..., 0., 0., 0.],\n",
       "         [0., 0., 1., ..., 1., 1., 0.],\n",
       "         ...,\n",
       "         [1., 0., 0., ..., 1., 1., 0.],\n",
       "         [0., 1., 0., ..., 1., 1., 0.],\n",
       "         [1., 0., 0., ..., 1., 1., 0.]]),\n",
       " matrix([[1., 0., 0., ..., 1., 1., 0.],\n",
       "         [0., 1., 1., ..., 1., 1., 0.],\n",
       "         [1., 0., 0., ..., 1., 1., 0.],\n",
       "         ...,\n",
       "         [0., 0., 1., ..., 1., 1., 0.],\n",
       "         [0., 0., 0., ..., 1., 1., 0.],\n",
       "         [0., 0., 1., ..., 1., 1., 0.]]),\n",
       " matrix([[0., 0., 0., ..., 1., 1., 0.],\n",
       "         [0., 0., 0., ..., 0., 0., 0.],\n",
       "         [1., 0., 0., ..., 1., 1., 0.],\n",
       "         ...,\n",
       "         [0., 0., 0., ..., 1., 1., 0.],\n",
       "         [0., 1., 1., ..., 1., 1., 0.],\n",
       "         [1., 0., 0., ..., 1., 1., 0.]])]"
      ]
     },
     "execution_count": 21,
     "metadata": {},
     "output_type": "execute_result"
    }
   ],
   "source": [
    "predition"
   ]
  },
  {
   "cell_type": "code",
   "execution_count": 22,
   "id": "7c462088",
   "metadata": {},
   "outputs": [
    {
     "name": "stdout",
     "output_type": "stream",
     "text": [
      "number of mapping nodes 3000, number of enhence nodes 4000\n",
      "mapping nodes maxvalue 27.57107 minvalue 0.0 \n",
      "enhence nodes maxvalue 1.0 minvalue 0.0 \n",
      "number of mapping nodes 3000, number of enhence nodes 4000\n",
      "mapping nodes maxvalue 27.3153 minvalue 0.0 \n",
      "enhence nodes maxvalue 1.0 minvalue 0.0 \n",
      "number of mapping nodes 3000, number of enhence nodes 4000\n",
      "mapping nodes maxvalue 32.02731 minvalue 0.0 \n",
      "enhence nodes maxvalue 1.0 minvalue 0.0 \n",
      "number of mapping nodes 3000, number of enhence nodes 4000\n",
      "mapping nodes maxvalue 27.66838 minvalue 0.0 \n",
      "enhence nodes maxvalue 1.0 minvalue 0.0 \n",
      "number of mapping nodes 3000, number of enhence nodes 4000\n",
      "mapping nodes maxvalue 28.11845 minvalue 0.0 \n",
      "enhence nodes maxvalue 1.0 minvalue 0.0 \n",
      "number of mapping nodes 3000, number of enhence nodes 4000\n",
      "mapping nodes maxvalue 32.55351 minvalue 0.0 \n",
      "enhence nodes maxvalue 1.0 minvalue 0.0 \n",
      "number of mapping nodes 3000, number of enhence nodes 4000\n",
      "mapping nodes maxvalue 30.08235 minvalue 0.0 \n",
      "enhence nodes maxvalue 1.0 minvalue 0.0 \n",
      "number of mapping nodes 3000, number of enhence nodes 4000\n",
      "mapping nodes maxvalue 27.13898 minvalue 0.0 \n",
      "enhence nodes maxvalue 1.0 minvalue 0.0 \n",
      "number of mapping nodes 3000, number of enhence nodes 4000\n",
      "mapping nodes maxvalue 26.83643 minvalue 0.0 \n",
      "enhence nodes maxvalue 1.0 minvalue 0.0 \n",
      "number of mapping nodes 3000, number of enhence nodes 4000\n",
      "mapping nodes maxvalue 30.37213 minvalue 0.0 \n",
      "enhence nodes maxvalue 1.0 minvalue 0.0 \n",
      "number of mapping nodes 3000, number of enhence nodes 4000\n",
      "mapping nodes maxvalue 27.44952 minvalue 0.0 \n",
      "enhence nodes maxvalue 1.0 minvalue 0.0 \n",
      "number of mapping nodes 3000, number of enhence nodes 4000\n",
      "mapping nodes maxvalue 28.10208 minvalue 0.0 \n",
      "enhence nodes maxvalue 1.0 minvalue 0.0 \n",
      "number of mapping nodes 3000, number of enhence nodes 4000\n",
      "mapping nodes maxvalue 28.7206 minvalue 0.0 \n",
      "enhence nodes maxvalue 1.0 minvalue 0.0 \n",
      "number of mapping nodes 3000, number of enhence nodes 4000\n",
      "mapping nodes maxvalue 25.63298 minvalue 0.0 \n",
      "enhence nodes maxvalue 1.0 minvalue 0.0 number of mapping nodes 3000, number of enhence nodes 4000\n",
      "\n",
      "mapping nodes maxvalue 28.80674 minvalue 0.0 \n",
      "number of mapping nodes 3000, number of enhence nodes 4000\n",
      "enhence nodes maxvalue 1.0 minvalue 0.0 \n",
      "mapping nodes maxvalue 26.22053 minvalue 0.0 \n",
      "enhence nodes maxvalue 1.0 minvalue 0.0 \n",
      "number of mapping nodes 3000, number of enhence nodes 4000\n",
      "mapping nodes maxvalue 28.98396 minvalue 0.0 \n",
      "enhence nodes maxvalue 1.0 minvalue 0.0 \n",
      "number of mapping nodes 3000, number of enhence nodes 4000\n",
      "mapping nodes maxvalue 27.35903 minvalue 0.0 \n",
      "enhence nodes maxvalue 1.0 minvalue 0.0 \n",
      "number of mapping nodes 3000, number of enhence nodes 4000\n",
      "mapping nodes maxvalue 27.28535 minvalue 0.0 \n",
      "enhence nodes maxvalue 1.0 minvalue 0.0 \n",
      "number of mapping nodes 3000, number of enhence nodes 4000\n",
      "mapping nodes maxvalue 27.51825 minvalue 0.0 \n",
      "enhence nodes maxvalue 1.0 minvalue 0.0 \n",
      "the processing time: 605.7705441 s\n"
     ]
    }
   ],
   "source": [
    "import timeit\n",
    "items=[i for i in range(20)]\n",
    "def bagging_net(i):\n",
    "    bls = bls3.broadnet(maptimes = 30,\n",
    "               enhencetimes = 40,\n",
    "               map_function = 'relu',\n",
    "               enhence_function = 'sigmoid',\n",
    "               batchsize = 100,\n",
    "               reg = 0.001)\n",
    "    sample,label=subsample(X_train.toarray(),y_train.toarray())\n",
    "    bls.fit(sample,label)\n",
    "    pred=bls.predict(X_test.toarray())\n",
    "    return pred\n",
    "start = timeit.default_timer()\n",
    "p=Pool(8)\n",
    "pre=p.map(bagging_net,items)\n",
    "p.close()\n",
    "p.join()\n",
    "end = timeit.default_timer()\n",
    "print('the processing time:', str(end-start), 's')"
   ]
  },
  {
   "cell_type": "code",
   "execution_count": 23,
   "id": "a1aa1bbb",
   "metadata": {},
   "outputs": [
    {
     "name": "stdout",
     "output_type": "stream",
     "text": [
      "number of mapping nodes 3000, number of enhence nodes 4000\n",
      "mapping nodes maxvalue 26.93595 minvalue 0.0 \n",
      "enhence nodes maxvalue 1.0 minvalue 0.0 \n",
      "number of mapping nodes 3000, number of enhence nodes 4000\n",
      "mapping nodes maxvalue 26.65798 minvalue 0.0 \n",
      "enhence nodes maxvalue 1.0 minvalue 0.0 \n",
      "number of mapping nodes 3000, number of enhence nodes 4000\n",
      "mapping nodes maxvalue 27.39671 minvalue 0.0 \n",
      "enhence nodes maxvalue 1.0 minvalue 0.0 \n",
      "number of mapping nodes 3000, number of enhence nodes 4000\n",
      "mapping nodes maxvalue 28.33391 minvalue 0.0 \n",
      "enhence nodes maxvalue 1.0 minvalue 0.0 \n",
      "number of mapping nodes 3000, number of enhence nodes 4000\n",
      "mapping nodes maxvalue 28.32675 minvalue 0.0 \n",
      "enhence nodes maxvalue 1.0 minvalue 0.0 \n",
      "number of mapping nodes 3000, number of enhence nodes 4000\n",
      "mapping nodes maxvalue 27.06594 minvalue 0.0 \n",
      "enhence nodes maxvalue 1.0 minvalue 0.0 \n",
      "number of mapping nodes 3000, number of enhence nodes 4000\n",
      "mapping nodes maxvalue 28.68762 minvalue 0.0 \n",
      "enhence nodes maxvalue 1.0 minvalue 0.0 \n",
      "number of mapping nodes 3000, number of enhence nodes 4000\n",
      "mapping nodes maxvalue 28.81736 minvalue 0.0 \n",
      "enhence nodes maxvalue 1.0 minvalue 0.0 \n",
      "number of mapping nodes 3000, number of enhence nodes 4000\n",
      "mapping nodes maxvalue 31.77619 minvalue 0.0 \n",
      "enhence nodes maxvalue 1.0 minvalue 0.0 \n",
      "number of mapping nodes 3000, number of enhence nodes 4000\n",
      "mapping nodes maxvalue 27.72236 minvalue 0.0 \n",
      "enhence nodes maxvalue 1.0 minvalue 0.0 \n",
      "the processing time: 230.0920681 s\n"
     ]
    }
   ],
   "source": [
    "start = timeit.default_timer()\n",
    "pred=[]\n",
    "for i in range(10):\n",
    "    sample,label=subsample(X_train.toarray(),y_train.toarray())\n",
    "    bls = bls3.broadnet(maptimes = 30,\n",
    "               enhencetimes = 40,\n",
    "               map_function = 'relu',\n",
    "               enhence_function = 'sigmoid',\n",
    "               batchsize = 100,\n",
    "               reg = 0.001)\n",
    "    bls.fit(sample,label)\n",
    "    pred.append(bls.predict(X_test))\n",
    "end = timeit.default_timer()\n",
    "print('the processing time:', str(end-start), 's')"
   ]
  },
  {
   "cell_type": "code",
   "execution_count": 24,
   "id": "67e7ffc6",
   "metadata": {},
   "outputs": [
    {
     "data": {
      "text/plain": [
       "matrix([[0., 0., 0., ..., 1., 1., 0.],\n",
       "        [0., 0., 0., ..., 1., 1., 0.],\n",
       "        [0., 0., 0., ..., 1., 0., 0.],\n",
       "        ...,\n",
       "        [1., 0., 0., ..., 0., 0., 0.],\n",
       "        [0., 0., 1., ..., 1., 1., 0.],\n",
       "        [0., 0., 0., ..., 1., 1., 0.]])"
      ]
     },
     "execution_count": 24,
     "metadata": {},
     "output_type": "execute_result"
    }
   ],
   "source": [
    "pre[0]"
   ]
  },
  {
   "cell_type": "code",
   "execution_count": 25,
   "id": "3f8df272",
   "metadata": {},
   "outputs": [
    {
     "data": {
      "text/plain": [
       "matrix([[ 1.,  2.,  5., ..., 19., 20.,  0.],\n",
       "        [ 0.,  4., 18., ..., 16., 16.,  0.],\n",
       "        [ 7.,  6.,  4., ..., 16., 16.,  0.],\n",
       "        ...,\n",
       "        [ 2.,  6., 14., ..., 11.,  9.,  2.],\n",
       "        [ 2., 10., 14., ..., 18., 19.,  0.],\n",
       "        [11.,  4., 10., ..., 19., 18.,  0.]])"
      ]
     },
     "execution_count": 25,
     "metadata": {},
     "output_type": "execute_result"
    }
   ],
   "source": [
    "pre_sum=pred[0]\n",
    "for i in range(1,len(pre)):\n",
    "    pre_sum+=pre[i]\n",
    "pre_sum"
   ]
  },
  {
   "cell_type": "code",
   "execution_count": 26,
   "id": "a10e9482",
   "metadata": {},
   "outputs": [
    {
     "name": "stdout",
     "output_type": "stream",
     "text": [
      "0.10141766630316248\n",
      "0.2520641844524069\n",
      "0.6521926053310405\n"
     ]
    }
   ],
   "source": [
    "pre_sum[pre_sum<5]=0\n",
    "pre_sum[pre_sum>=5]=1\n",
    "print(accuracy_score(y_pred=pre_sum,y_true=y_test))\n",
    "print(hamming_loss(y_pred=pre_sum,y_true=y_test))\n",
    "print(f1_score(y_pred=pre_sum,y_true=y_test,average='micro'))"
   ]
  },
  {
   "cell_type": "code",
   "execution_count": 27,
   "id": "5b0ac7ed",
   "metadata": {},
   "outputs": [],
   "source": [
    "from sklearn.ensemble import RandomForestClassifier"
   ]
  },
  {
   "cell_type": "code",
   "execution_count": 28,
   "id": "c3a01b3c",
   "metadata": {},
   "outputs": [
    {
     "data": {
      "text/plain": [
       "RandomForestClassifier(bootstrap=True, class_weight=None, criterion='gini',\n",
       "            max_depth=None, max_features='auto', max_leaf_nodes=None,\n",
       "            min_impurity_decrease=0.0, min_impurity_split=None,\n",
       "            min_samples_leaf=1, min_samples_split=2,\n",
       "            min_weight_fraction_leaf=0.0, n_estimators=20, n_jobs=1,\n",
       "            oob_score=False, random_state=None, verbose=0,\n",
       "            warm_start=False)"
      ]
     },
     "execution_count": 28,
     "metadata": {},
     "output_type": "execute_result"
    }
   ],
   "source": [
    "rfc=RandomForestClassifier(n_estimators=20)\n",
    "rfc.fit(X_train.toarray(),y_train.toarray())\n"
   ]
  },
  {
   "cell_type": "code",
   "execution_count": 29,
   "id": "5a1519e5",
   "metadata": {},
   "outputs": [
    {
     "data": {
      "text/plain": [
       "0.13086150490730644"
      ]
     },
     "execution_count": 29,
     "metadata": {},
     "output_type": "execute_result"
    }
   ],
   "source": [
    "rfc.score(X_test,y_test)"
   ]
  },
  {
   "cell_type": "code",
   "execution_count": null,
   "id": "496ac0a3",
   "metadata": {},
   "outputs": [],
   "source": []
  }
 ],
 "metadata": {
  "kernelspec": {
   "display_name": "Python [conda env:openne] *",
   "language": "python",
   "name": "conda-env-openne-py"
  },
  "language_info": {
   "codemirror_mode": {
    "name": "ipython",
    "version": 3
   },
   "file_extension": ".py",
   "mimetype": "text/x-python",
   "name": "python",
   "nbconvert_exporter": "python",
   "pygments_lexer": "ipython3",
   "version": "3.6.13"
  }
 },
 "nbformat": 4,
 "nbformat_minor": 5
}
