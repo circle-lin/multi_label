{
 "cells": [
  {
   "cell_type": "code",
   "execution_count": 1,
   "id": "299a4604",
   "metadata": {},
   "outputs": [
    {
     "name": "stdout",
     "output_type": "stream",
     "text": [
      "emotions:train - exists, not redownloading\n",
      "emotions:test - exists, not redownloading\n"
     ]
    }
   ],
   "source": [
    "import numpy\n",
    "import sklearn.metrics as metrics\n",
    "from skmultilearn.dataset import load_dataset\n",
    "import numpy as np\n",
    "import pandas as pd\n",
    "X_train, y_train, feature_names, label_names = load_dataset('emotions', 'train')\n",
    "X_test, y_test, _, _ = load_dataset('emotions', 'test')"
   ]
  },
  {
   "cell_type": "code",
   "execution_count": 2,
   "id": "0a691bf1",
   "metadata": {},
   "outputs": [
    {
     "name": "stderr",
     "output_type": "stream",
     "text": [
      "D:\\anaconda3\\envs\\openne\\lib\\site-packages\\sklearn\\ensemble\\weight_boosting.py:29: DeprecationWarning: numpy.core.umath_tests is an internal NumPy module and should not be imported. It will be removed in a future NumPy release.\n",
      "  from numpy.core.umath_tests import inner1d\n"
     ]
    }
   ],
   "source": [
    "from skmultilearn.problem_transform import BinaryRelevance\n",
    "from skmultilearn.problem_transform import ClassifierChain\n",
    "from skmultilearn.problem_transform import LabelPowerset\n",
    "from bls_addinput import broadnet_enhmap\n",
    "from sklearn.ensemble import RandomForestClassifier"
   ]
  },
  {
   "cell_type": "code",
   "execution_count": 3,
   "id": "9cb8dcd2",
   "metadata": {},
   "outputs": [],
   "source": [
    "bls = broadnet_enhmap(maptimes = 10, \n",
    "                       enhencetimes = 10,\n",
    "                       traintimes = 10,\n",
    "                       map_function = 'tanh',\n",
    "                       enhence_function = 'sigmoid',\n",
    "                       batchsize = 'auto', \n",
    "                       acc = 1,\n",
    "                       mapstep = 10,\n",
    "                       enhencestep = 10,\n",
    "                       reg = 0.001)"
   ]
  },
  {
   "cell_type": "code",
   "execution_count": 4,
   "id": "e93f4fab",
   "metadata": {},
   "outputs": [],
   "source": [
    "clf =BinaryRelevance(\n",
    "    classifier=bls,\n",
    "    require_dense=[False, True]\n",
    ")"
   ]
  },
  {
   "cell_type": "code",
   "execution_count": 5,
   "id": "78c78f0a",
   "metadata": {},
   "outputs": [
    {
     "data": {
      "text/plain": [
       "BinaryRelevance(classifier=<bls_addinput.broadnet_enhmap object at 0x0000021312C88940>,\n",
       "        require_dense=[False, True])"
      ]
     },
     "execution_count": 5,
     "metadata": {},
     "output_type": "execute_result"
    }
   ],
   "source": [
    "clf.fit(X_train,y_train)"
   ]
  },
  {
   "cell_type": "code",
   "execution_count": 6,
   "id": "ccfabef9",
   "metadata": {},
   "outputs": [
    {
     "data": {
      "text/plain": [
       "0.1485148514851485"
      ]
     },
     "execution_count": 6,
     "metadata": {},
     "output_type": "execute_result"
    }
   ],
   "source": [
    "clf.score(X_test,y_test)"
   ]
  },
  {
   "cell_type": "code",
   "execution_count": 7,
   "id": "f9605e89",
   "metadata": {},
   "outputs": [
    {
     "data": {
      "text/plain": [
       "1.0"
      ]
     },
     "execution_count": 7,
     "metadata": {},
     "output_type": "execute_result"
    }
   ],
   "source": [
    "clf.score(X_train,y_train)"
   ]
  },
  {
   "cell_type": "code",
   "execution_count": 8,
   "id": "86931154",
   "metadata": {},
   "outputs": [],
   "source": [
    "from sklearn.metrics import accuracy_score,hamming_loss,mean_squared_error"
   ]
  },
  {
   "cell_type": "code",
   "execution_count": 9,
   "id": "41cff2ae",
   "metadata": {},
   "outputs": [
    {
     "name": "stdout",
     "output_type": "stream",
     "text": [
      "0.1485148514851485\n",
      "0.2896039603960396\n",
      "0.2896039603960396\n"
     ]
    }
   ],
   "source": [
    "preditions=clf.predict(X_test)\n",
    "print(accuracy_score(y_pred=preditions,y_true=y_test))\n",
    "print(hamming_loss(y_pred=preditions,y_true=y_test))\n",
    "print(mean_squared_error(y_pred=preditions.todense(),y_true=y_test.todense()))"
   ]
  },
  {
   "cell_type": "code",
   "execution_count": 10,
   "id": "ec6a1ff2",
   "metadata": {},
   "outputs": [],
   "source": [
    "from sklearn.tree import DecisionTreeClassifier"
   ]
  },
  {
   "cell_type": "code",
   "execution_count": 11,
   "id": "bf70d566",
   "metadata": {},
   "outputs": [
    {
     "data": {
      "text/plain": [
       "BinaryRelevance(classifier=DecisionTreeClassifier(class_weight=None, criterion='gini', max_depth=None,\n",
       "            max_features=None, max_leaf_nodes=None,\n",
       "            min_impurity_decrease=0.0, min_impurity_split=None,\n",
       "            min_samples_leaf=1, min_samples_split=2,\n",
       "            min_weight_fraction_leaf=0.0, presort=False, random_state=None,\n",
       "            splitter='best'),\n",
       "        require_dense=[False, True])"
      ]
     },
     "execution_count": 11,
     "metadata": {},
     "output_type": "execute_result"
    }
   ],
   "source": [
    "clf1 =BinaryRelevance(\n",
    "    classifier=DecisionTreeClassifier(),\n",
    "    require_dense=[False, True]\n",
    ")\n",
    "clf1.fit(X_train,y_train)"
   ]
  },
  {
   "cell_type": "code",
   "execution_count": 12,
   "id": "490d61df",
   "metadata": {},
   "outputs": [
    {
     "name": "stdout",
     "output_type": "stream",
     "text": [
      "0.1485148514851485\n",
      "0.2887788778877888\n",
      "0.2887788778877888\n"
     ]
    }
   ],
   "source": [
    "preditions1=clf1.predict(X_test)\n",
    "print(accuracy_score(y_pred=preditions1,y_true=y_test))\n",
    "print(hamming_loss(y_pred=preditions1,y_true=y_test))\n",
    "print(mean_squared_error(y_pred=preditions1.todense(),y_true=y_test.todense()))"
   ]
  },
  {
   "cell_type": "code",
   "execution_count": 13,
   "id": "946fea83",
   "metadata": {},
   "outputs": [
    {
     "name": "stdout",
     "output_type": "stream",
     "text": [
      "0.2524752475247525\n",
      "0.283003300330033\n",
      "0.283003300330033\n"
     ]
    },
    {
     "name": "stderr",
     "output_type": "stream",
     "text": [
      "D:\\anaconda3\\envs\\openne\\lib\\site-packages\\scipy\\sparse\\lil.py:515: FutureWarning: future versions will not create a writeable array from broadcast_array. Set the writable flag explicitly to avoid this warning.\n",
      "  if not i.flags.writeable or i.dtype not in (np.int32, np.int64):\n",
      "D:\\anaconda3\\envs\\openne\\lib\\site-packages\\scipy\\sparse\\lil.py:517: FutureWarning: future versions will not create a writeable array from broadcast_array. Set the writable flag explicitly to avoid this warning.\n",
      "  if not j.flags.writeable or j.dtype not in (np.int32, np.int64):\n",
      "D:\\anaconda3\\envs\\openne\\lib\\site-packages\\scipy\\sparse\\lil.py:521: FutureWarning: future versions will not create a writeable array from broadcast_array. Set the writable flag explicitly to avoid this warning.\n",
      "  if not x.flags.writeable:\n"
     ]
    }
   ],
   "source": [
    "clf =LabelPowerset(\n",
    "    classifier=bls,\n",
    "    require_dense=[False, True]\n",
    ")\n",
    "clf.fit(X_train,y_train)\n",
    "preditions=clf.predict(X_test)\n",
    "print(accuracy_score(y_pred=preditions,y_true=y_test))\n",
    "print(hamming_loss(y_pred=preditions,y_true=y_test))\n",
    "print(mean_squared_error(y_pred=preditions.todense(),y_true=y_test.todense()))"
   ]
  },
  {
   "cell_type": "code",
   "execution_count": 14,
   "id": "90dd29dc",
   "metadata": {},
   "outputs": [
    {
     "name": "stdout",
     "output_type": "stream",
     "text": [
      "0.2079207920792079\n",
      "0.29125412541254125\n",
      "0.29125412541254125\n"
     ]
    }
   ],
   "source": [
    "clf1 =LabelPowerset(\n",
    "    classifier=DecisionTreeClassifier(),\n",
    "    require_dense=[False, True]\n",
    ")\n",
    "clf1.fit(X_train,y_train)\n",
    "preditions1=clf1.predict(X_test)\n",
    "print(accuracy_score(y_pred=preditions1,y_true=y_test))\n",
    "print(hamming_loss(y_pred=preditions1,y_true=y_test))\n",
    "print(mean_squared_error(y_pred=preditions1.todense(),y_true=y_test.todense()))"
   ]
  },
  {
   "cell_type": "code",
   "execution_count": 15,
   "id": "3eb2b90c",
   "metadata": {},
   "outputs": [
    {
     "name": "stdout",
     "output_type": "stream",
     "text": [
      "0.16831683168316833\n",
      "0.2863036303630363\n",
      "0.2863036303630363\n"
     ]
    }
   ],
   "source": [
    "clf1 =ClassifierChain(\n",
    "    classifier=DecisionTreeClassifier(),\n",
    "    require_dense=[False, True]\n",
    ")\n",
    "clf1.fit(X_train,y_train)\n",
    "preditions1=clf1.predict(X_test)\n",
    "print(accuracy_score(y_pred=preditions1,y_true=y_test))\n",
    "print(hamming_loss(y_pred=preditions1,y_true=y_test))\n",
    "print(mean_squared_error(y_pred=preditions1.todense(),y_true=y_test.todense()))"
   ]
  },
  {
   "cell_type": "code",
   "execution_count": 18,
   "id": "d652cd82",
   "metadata": {},
   "outputs": [
    {
     "name": "stdout",
     "output_type": "stream",
     "text": [
      "0.18316831683168316\n",
      "0.27887788778877887\n",
      "0.2788778877887789\n"
     ]
    }
   ],
   "source": [
    "from skmultilearn.ensemble import RakelD\n",
    "clf1 =RakelD(base_classifier=bls)\n",
    "clf1.fit(X_train,y_train)\n",
    "preditions1=clf1.predict(X_test)\n",
    "print(accuracy_score(y_pred=preditions1,y_true=y_test))\n",
    "print(hamming_loss(y_pred=preditions1,y_true=y_test))\n",
    "print(mean_squared_error(y_pred=preditions1.todense(),y_true=y_test.todense()))"
   ]
  },
  {
   "cell_type": "code",
   "execution_count": 19,
   "id": "65bc831e",
   "metadata": {},
   "outputs": [
    {
     "name": "stdout",
     "output_type": "stream",
     "text": [
      "0.15841584158415842\n",
      "0.2863036303630363\n",
      "0.2863036303630363\n"
     ]
    }
   ],
   "source": [
    "clf1 =RakelD(base_classifier=DecisionTreeClassifier())\n",
    "clf1.fit(X_train,y_train)\n",
    "preditions1=clf1.predict(X_test)\n",
    "print(accuracy_score(y_pred=preditions1,y_true=y_test))\n",
    "print(hamming_loss(y_pred=preditions1,y_true=y_test))\n",
    "print(mean_squared_error(y_pred=preditions1.todense(),y_true=y_test.todense()))"
   ]
  },
  {
   "cell_type": "code",
   "execution_count": 25,
   "id": "cfef788f",
   "metadata": {},
   "outputs": [
    {
     "name": "stderr",
     "output_type": "stream",
     "text": [
      "D:\\anaconda3\\envs\\openne\\lib\\site-packages\\scipy\\sparse\\lil.py:517: FutureWarning: future versions will not create a writeable array from broadcast_array. Set the writable flag explicitly to avoid this warning.\n",
      "  if not j.flags.writeable or j.dtype not in (np.int32, np.int64):\n",
      "D:\\anaconda3\\envs\\openne\\lib\\site-packages\\scipy\\sparse\\lil.py:521: FutureWarning: future versions will not create a writeable array from broadcast_array. Set the writable flag explicitly to avoid this warning.\n",
      "  if not x.flags.writeable:\n",
      "D:\\anaconda3\\envs\\openne\\lib\\site-packages\\scipy\\sparse\\lil.py:515: FutureWarning: future versions will not create a writeable array from broadcast_array. Set the writable flag explicitly to avoid this warning.\n",
      "  if not i.flags.writeable or i.dtype not in (np.int32, np.int64):\n"
     ]
    },
    {
     "name": "stdout",
     "output_type": "stream",
     "text": [
      "0.2524752475247525\n",
      "0.21782178217821782\n",
      "0.21782178217821782\n"
     ]
    }
   ],
   "source": [
    "from skmultilearn.ensemble import RakelO\n",
    "clf1 =RakelO(base_classifier=DecisionTreeClassifier(),model_count=100)\n",
    "clf1.fit(X_train,y_train)\n",
    "preditions1=clf1.predict(X_test)\n",
    "print(accuracy_score(y_pred=preditions1,y_true=y_test))\n",
    "print(hamming_loss(y_pred=preditions1,y_true=y_test))\n",
    "print(mean_squared_error(y_pred=preditions1.todense(),y_true=y_test.todense()))"
   ]
  },
  {
   "cell_type": "code",
   "execution_count": 32,
   "id": "5a0311a0",
   "metadata": {},
   "outputs": [],
   "source": [
    "from skmultilearn.ensemble import LabelSpacePartitioningClassifier\n",
    "from sklearn.cluster import k_means\n",
    "from skmultilearn.cluster import NetworkXLabelGraphClusterer"
   ]
  },
  {
   "cell_type": "code",
   "execution_count": 34,
   "id": "a4803e10",
   "metadata": {},
   "outputs": [
    {
     "name": "stdout",
     "output_type": "stream",
     "text": [
      "6 labels, 14 edges\n",
      "{(1, 2): 58.0, (0, 5): 61.0, (1, 5): 6.0, (0, 1): 33.0, (2, 3): 66.0, (2, 4): 60.0, (3, 4): 56.0, (4, 5): 9.0, (2, 5): 5.0, (0, 4): 4.0, (1, 4): 1.0, (0, 2): 9.0, (1, 3): 6.0, (3, 5): 2.0}\n"
     ]
    }
   ],
   "source": [
    "from skmultilearn.cluster import LabelCooccurrenceGraphBuilder\n",
    "graph_builder = LabelCooccurrenceGraphBuilder(weighted=True, include_self_edges=False)\n",
    "edge_map = graph_builder.transform(y_train)\n",
    "print(\"{} labels, {} edges\".format(len(label_names), len(edge_map)))\n",
    "print(edge_map)"
   ]
  },
  {
   "cell_type": "code",
   "execution_count": 35,
   "id": "3b2ff7fe",
   "metadata": {},
   "outputs": [
    {
     "name": "stdout",
     "output_type": "stream",
     "text": [
      "0.14356435643564355\n",
      "0.2995049504950495\n",
      "0.2995049504950495\n"
     ]
    },
    {
     "name": "stderr",
     "output_type": "stream",
     "text": [
      "D:\\anaconda3\\envs\\openne\\lib\\site-packages\\scipy\\sparse\\lil.py:517: FutureWarning: future versions will not create a writeable array from broadcast_array. Set the writable flag explicitly to avoid this warning.\n",
      "  if not j.flags.writeable or j.dtype not in (np.int32, np.int64):\n",
      "D:\\anaconda3\\envs\\openne\\lib\\site-packages\\scipy\\sparse\\lil.py:521: FutureWarning: future versions will not create a writeable array from broadcast_array. Set the writable flag explicitly to avoid this warning.\n",
      "  if not x.flags.writeable:\n",
      "D:\\anaconda3\\envs\\openne\\lib\\site-packages\\scipy\\sparse\\lil.py:515: FutureWarning: future versions will not create a writeable array from broadcast_array. Set the writable flag explicitly to avoid this warning.\n",
      "  if not i.flags.writeable or i.dtype not in (np.int32, np.int64):\n"
     ]
    }
   ],
   "source": [
    "clusterer = NetworkXLabelGraphClusterer(graph_builder, method='louvain')\n",
    "clf1 =LabelSpacePartitioningClassifier(classifier=LabelPowerset(classifier=bls),clusterer=clusterer)\n",
    "clf1.fit(X_train,y_train)\n",
    "preditions1=clf1.predict(X_test)\n",
    "print(accuracy_score(y_pred=preditions1,y_true=y_test))\n",
    "print(hamming_loss(y_pred=preditions1,y_true=y_test))\n",
    "print(mean_squared_error(y_pred=preditions1.todense(),y_true=y_test.todense()))"
   ]
  },
  {
   "cell_type": "code",
   "execution_count": 36,
   "id": "05546027",
   "metadata": {},
   "outputs": [
    {
     "ename": "AttributeError",
     "evalue": "'NoneType' object has no attribute 'predict'",
     "output_type": "error",
     "traceback": [
      "\u001b[1;31m---------------------------------------------------------------------------\u001b[0m",
      "\u001b[1;31mAttributeError\u001b[0m                            Traceback (most recent call last)",
      "\u001b[1;32m<ipython-input-36-008012226315>\u001b[0m in \u001b[0;36m<module>\u001b[1;34m\u001b[0m\n\u001b[0;32m      4\u001b[0m )\n\u001b[0;32m      5\u001b[0m \u001b[0mclf1\u001b[0m\u001b[1;33m.\u001b[0m\u001b[0mfit\u001b[0m\u001b[1;33m(\u001b[0m\u001b[0mX_train\u001b[0m\u001b[1;33m,\u001b[0m\u001b[0my_train\u001b[0m\u001b[1;33m)\u001b[0m\u001b[1;33m\u001b[0m\u001b[1;33m\u001b[0m\u001b[0m\n\u001b[1;32m----> 6\u001b[1;33m \u001b[0mpreditions1\u001b[0m\u001b[1;33m=\u001b[0m\u001b[0mclf1\u001b[0m\u001b[1;33m.\u001b[0m\u001b[0mpredict\u001b[0m\u001b[1;33m(\u001b[0m\u001b[0mX_test\u001b[0m\u001b[1;33m)\u001b[0m\u001b[1;33m\u001b[0m\u001b[1;33m\u001b[0m\u001b[0m\n\u001b[0m\u001b[0;32m      7\u001b[0m \u001b[0mprint\u001b[0m\u001b[1;33m(\u001b[0m\u001b[0maccuracy_score\u001b[0m\u001b[1;33m(\u001b[0m\u001b[0my_pred\u001b[0m\u001b[1;33m=\u001b[0m\u001b[0mpreditions1\u001b[0m\u001b[1;33m,\u001b[0m\u001b[0my_true\u001b[0m\u001b[1;33m=\u001b[0m\u001b[0my_test\u001b[0m\u001b[1;33m)\u001b[0m\u001b[1;33m)\u001b[0m\u001b[1;33m\u001b[0m\u001b[1;33m\u001b[0m\u001b[0m\n\u001b[0;32m      8\u001b[0m \u001b[0mprint\u001b[0m\u001b[1;33m(\u001b[0m\u001b[0mhamming_loss\u001b[0m\u001b[1;33m(\u001b[0m\u001b[0my_pred\u001b[0m\u001b[1;33m=\u001b[0m\u001b[0mpreditions1\u001b[0m\u001b[1;33m,\u001b[0m\u001b[0my_true\u001b[0m\u001b[1;33m=\u001b[0m\u001b[0my_test\u001b[0m\u001b[1;33m)\u001b[0m\u001b[1;33m)\u001b[0m\u001b[1;33m\u001b[0m\u001b[1;33m\u001b[0m\u001b[0m\n",
      "\u001b[1;32mD:\\anaconda3\\envs\\openne\\lib\\site-packages\\skmultilearn\\problem_transform\\cc.py\u001b[0m in \u001b[0;36mpredict\u001b[1;34m(self, X)\u001b[0m\n\u001b[0;32m    176\u001b[0m \u001b[1;33m\u001b[0m\u001b[0m\n\u001b[0;32m    177\u001b[0m         \u001b[1;32mfor\u001b[0m \u001b[0mlabel\u001b[0m \u001b[1;32min\u001b[0m \u001b[0mself\u001b[0m\u001b[1;33m.\u001b[0m\u001b[0m_order\u001b[0m\u001b[1;33m(\u001b[0m\u001b[1;33m)\u001b[0m\u001b[1;33m:\u001b[0m\u001b[1;33m\u001b[0m\u001b[1;33m\u001b[0m\u001b[0m\n\u001b[1;32m--> 178\u001b[1;33m             prediction = self.classifiers_[label].predict(\n\u001b[0m\u001b[0;32m    179\u001b[0m                 self._ensure_input_format(X_extended))\n\u001b[0;32m    180\u001b[0m             \u001b[0mprediction\u001b[0m \u001b[1;33m=\u001b[0m \u001b[0mself\u001b[0m\u001b[1;33m.\u001b[0m\u001b[0m_ensure_multi_label_from_single_class\u001b[0m\u001b[1;33m(\u001b[0m\u001b[0mprediction\u001b[0m\u001b[1;33m)\u001b[0m\u001b[1;33m\u001b[0m\u001b[1;33m\u001b[0m\u001b[0m\n",
      "\u001b[1;31mAttributeError\u001b[0m: 'NoneType' object has no attribute 'predict'"
     ]
    }
   ],
   "source": [
    "clf1 =ClassifierChain(\n",
    "    classifier=bls,\n",
    "    require_dense=[False, True]\n",
    ")\n",
    "clf1.fit(X_train,y_train)\n",
    "preditions1=clf1.predict(X_test)\n",
    "print(accuracy_score(y_pred=preditions1,y_true=y_test))\n",
    "print(hamming_loss(y_pred=preditions1,y_true=y_test))\n",
    "print(mean_squared_error(y_pred=preditions1.todense(),y_true=y_test.todense()))"
   ]
  },
  {
   "cell_type": "code",
   "execution_count": 37,
   "id": "a144578f",
   "metadata": {},
   "outputs": [
    {
     "ename": "AttributeError",
     "evalue": "'NoneType' object has no attribute 'predict'",
     "output_type": "error",
     "traceback": [
      "\u001b[1;31m---------------------------------------------------------------------------\u001b[0m",
      "\u001b[1;31mAttributeError\u001b[0m                            Traceback (most recent call last)",
      "\u001b[1;32m<ipython-input-37-7936dda16c52>\u001b[0m in \u001b[0;36m<module>\u001b[1;34m\u001b[0m\n\u001b[1;32m----> 1\u001b[1;33m \u001b[0mclf1\u001b[0m\u001b[1;33m.\u001b[0m\u001b[0mpredict_proba\u001b[0m\u001b[1;33m(\u001b[0m\u001b[0mX_test\u001b[0m\u001b[1;33m)\u001b[0m\u001b[1;33m\u001b[0m\u001b[1;33m\u001b[0m\u001b[0m\n\u001b[0m",
      "\u001b[1;32mD:\\anaconda3\\envs\\openne\\lib\\site-packages\\skmultilearn\\problem_transform\\cc.py\u001b[0m in \u001b[0;36mpredict_proba\u001b[1;34m(self, X)\u001b[0m\n\u001b[0;32m    200\u001b[0m         \u001b[0mresults\u001b[0m \u001b[1;33m=\u001b[0m \u001b[1;33m[\u001b[0m\u001b[1;33m]\u001b[0m\u001b[1;33m\u001b[0m\u001b[1;33m\u001b[0m\u001b[0m\n\u001b[0;32m    201\u001b[0m         \u001b[1;32mfor\u001b[0m \u001b[0mlabel\u001b[0m \u001b[1;32min\u001b[0m \u001b[0mself\u001b[0m\u001b[1;33m.\u001b[0m\u001b[0m_order\u001b[0m\u001b[1;33m(\u001b[0m\u001b[1;33m)\u001b[0m\u001b[1;33m:\u001b[0m\u001b[1;33m\u001b[0m\u001b[1;33m\u001b[0m\u001b[0m\n\u001b[1;32m--> 202\u001b[1;33m             prediction = self.classifiers_[label].predict(\n\u001b[0m\u001b[0;32m    203\u001b[0m                 self._ensure_input_format(X_extended))\n\u001b[0;32m    204\u001b[0m \u001b[1;33m\u001b[0m\u001b[0m\n",
      "\u001b[1;31mAttributeError\u001b[0m: 'NoneType' object has no attribute 'predict'"
     ]
    }
   ],
   "source": [
    "clf1.predict_proba(X_test)"
   ]
  },
  {
   "cell_type": "code",
   "execution_count": null,
   "id": "de389ed7",
   "metadata": {},
   "outputs": [],
   "source": []
  }
 ],
 "metadata": {
  "kernelspec": {
   "display_name": "Python [conda env:openne] *",
   "language": "python",
   "name": "conda-env-openne-py"
  },
  "language_info": {
   "codemirror_mode": {
    "name": "ipython",
    "version": 3
   },
   "file_extension": ".py",
   "mimetype": "text/x-python",
   "name": "python",
   "nbconvert_exporter": "python",
   "pygments_lexer": "ipython3",
   "version": "3.6.13"
  }
 },
 "nbformat": 4,
 "nbformat_minor": 5
}
