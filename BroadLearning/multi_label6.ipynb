{
 "cells": [
  {
   "cell_type": "code",
   "execution_count": 1,
   "id": "37e00b58",
   "metadata": {},
   "outputs": [],
   "source": [
    "from sklearn.datasets import make_multilabel_classification\n",
    "from bls1 import broadnet\n",
    "from sklearn.model_selection import train_test_split\n",
    "import numpy as np\n",
    "import pandas as pd"
   ]
  },
  {
   "cell_type": "code",
   "execution_count": 2,
   "id": "5d11ff6b",
   "metadata": {},
   "outputs": [],
   "source": [
    "X,y=make_multilabel_classification(n_samples=1000,n_features=10,n_labels=2,n_classes=5)"
   ]
  },
  {
   "cell_type": "code",
   "execution_count": 3,
   "id": "3a5c57f5",
   "metadata": {},
   "outputs": [],
   "source": [
    "bls = broadnet(maptimes = 10,\n",
    "               enhencetimes = 10,\n",
    "               map_function = 'relu',\n",
    "               enhence_function = 'relu',\n",
    "               batchsize = 100,\n",
    "               reg = 0.001)"
   ]
  },
  {
   "cell_type": "code",
   "execution_count": 4,
   "id": "4a0475d2",
   "metadata": {},
   "outputs": [],
   "source": [
    "X_train,X_test,y_train,y_test=train_test_split(X,y,test_size=0.3,random_state=48)"
   ]
  },
  {
   "cell_type": "code",
   "execution_count": 5,
   "id": "febdebd2",
   "metadata": {},
   "outputs": [
    {
     "name": "stdout",
     "output_type": "stream",
     "text": [
      "number of mapping nodes 1000, number of enhence nodes 1000\n",
      "mapping nodes maxvalue 11.24256 minvalue 0.0 \n",
      "enhence nodes maxvalue 8.38868 minvalue 0.0 \n"
     ]
    }
   ],
   "source": [
    "bls.fit(X_train,y_train)"
   ]
  },
  {
   "cell_type": "code",
   "execution_count": 6,
   "id": "56de58c3",
   "metadata": {},
   "outputs": [
    {
     "name": "stdout",
     "output_type": "stream",
     "text": [
      "[0.65, 0.6523040095751047, 0.6530120481927713, 0.6557575757575758, 0.6593406593406594, 0.6592865928659287, 0.6604938271604939, 0.6596404215747054, 0.6612601372426701, 0.6624843161856964, 0.663716814159292, 0.6666666666666665, 0.6675191815856777, 0.6688102893890675, 0.6701164294954721, 0.6727272727272727, 0.673202614379085, 0.6732283464566928, 0.6715039577836411, 0.6742021276595743, 0.6773547094188376, 0.6792452830188679, 0.6815718157181573, 0.6785225718194254, 0.6804407713498623, 0.6791406791406791, 0.6801393728222996, 0.6778711484593837, 0.6742049469964665, 0.6761768901569187, 0.6733958183129055, 0.6724637681159421, 0.671062271062271, 0.6686346863468635, 0.6661710037174722, 0.6671664167916042, 0.6646433990895296, 0.6636225266362252, 0.6584992343032159, 0.6579150579150579, 0.658307210031348, 0.6572104018912529, 0.6582077716098335, 0.6634692246203038, 0.661847389558233, 0.6553122465531225, 0.6541598694942903, 0.6546349466776046, 0.6529266281945589, 0.6533996683250414, 0.6544546211490425, 0.6515151515151515, 0.650887573964497, 0.6479591836734694, 0.6373815676141258, 0.635968722849696, 0.6327782646801052, 0.6234458259325045, 0.6211849192100539, 0.6132848043676069, 0.6115702479338843, 0.6059479553903346, 0.595664467483506, 0.5939278937381404, 0.5908221797323137, 0.584942084942085, 0.5758754863813229, 0.5736738703339882, 0.5643564356435644, 0.5628742514970061, 0.5570131180625632, 0.5510204081632653, 0.5471311475409836, 0.5386996904024769, 0.5323590814196242, 0.5263157894736842, 0.5238600212089077, 0.5166130760986066, 0.511326860841424, 0.5032537960954447]\n",
      "The best threshold is 0.3199999999999999\n"
     ]
    }
   ],
   "source": [
    "bls.decoder_alpha(X_test,y_test)"
   ]
  },
  {
   "cell_type": "code",
   "execution_count": 7,
   "id": "611f8dc6",
   "metadata": {},
   "outputs": [],
   "source": [
    "predition=bls.predict(X_test)"
   ]
  },
  {
   "cell_type": "code",
   "execution_count": 8,
   "id": "e56d384a",
   "metadata": {},
   "outputs": [
    {
     "data": {
      "text/plain": [
       "array([[0, 0, 1, 0, 1],\n",
       "       [0, 0, 0, 0, 1],\n",
       "       [0, 0, 0, 0, 1],\n",
       "       ...,\n",
       "       [0, 1, 0, 0, 1],\n",
       "       [0, 1, 0, 0, 1],\n",
       "       [0, 0, 0, 0, 1]])"
      ]
     },
     "execution_count": 8,
     "metadata": {},
     "output_type": "execute_result"
    }
   ],
   "source": [
    "y_test"
   ]
  },
  {
   "cell_type": "code",
   "execution_count": 9,
   "id": "fb3c12fc",
   "metadata": {},
   "outputs": [
    {
     "data": {
      "text/plain": [
       "0.18666666666666668"
      ]
     },
     "execution_count": 9,
     "metadata": {},
     "output_type": "execute_result"
    }
   ],
   "source": [
    "from sklearn.metrics import accuracy_score\n",
    "accuracy_score(y_pred=predition,y_true=y_test)"
   ]
  },
  {
   "cell_type": "code",
   "execution_count": 1,
   "id": "0f27df98",
   "metadata": {},
   "outputs": [
    {
     "name": "stdout",
     "output_type": "stream",
     "text": [
      "yeast:train - exists, not redownloading\n",
      "yeast:test - exists, not redownloading\n"
     ]
    }
   ],
   "source": [
    "from skmultilearn.dataset import load_dataset\n",
    "X_train, y_train, feature_names, label_names = load_dataset('yeast', 'train')\n",
    "X_test, y_test, _, _ = load_dataset('yeast', 'test')"
   ]
  },
  {
   "cell_type": "code",
   "execution_count": 2,
   "id": "456eb25f",
   "metadata": {},
   "outputs": [
    {
     "data": {
      "text/plain": [
       "(1500, 103)"
      ]
     },
     "execution_count": 2,
     "metadata": {},
     "output_type": "execute_result"
    }
   ],
   "source": [
    "X_train.shape"
   ]
  },
  {
   "cell_type": "code",
   "execution_count": 4,
   "id": "8d2f7343",
   "metadata": {},
   "outputs": [
    {
     "data": {
      "text/plain": [
       "<917x14 sparse matrix of type '<class 'numpy.int64'>'\n",
       "\twith 3899 stored elements in LInked List format>"
      ]
     },
     "execution_count": 4,
     "metadata": {},
     "output_type": "execute_result"
    }
   ],
   "source": [
    "y_test"
   ]
  },
  {
   "cell_type": "code",
   "execution_count": null,
   "id": "f85bc735",
   "metadata": {},
   "outputs": [],
   "source": []
  }
 ],
 "metadata": {
  "kernelspec": {
   "display_name": "Python [conda env:openne] *",
   "language": "python",
   "name": "conda-env-openne-py"
  },
  "language_info": {
   "codemirror_mode": {
    "name": "ipython",
    "version": 3
   },
   "file_extension": ".py",
   "mimetype": "text/x-python",
   "name": "python",
   "nbconvert_exporter": "python",
   "pygments_lexer": "ipython3",
   "version": "3.6.13"
  }
 },
 "nbformat": 4,
 "nbformat_minor": 5
}
