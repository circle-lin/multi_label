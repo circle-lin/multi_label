{
 "cells": [
  {
   "cell_type": "code",
   "execution_count": 1,
   "id": "c0d15f10",
   "metadata": {},
   "outputs": [],
   "source": [
    "from sklearn.datasets import make_multilabel_classification\n",
    "from bls1 import broadnet\n",
    "from sklearn.model_selection import train_test_split\n",
    "import numpy as np\n",
    "import pandas as pd"
   ]
  },
  {
   "cell_type": "code",
   "execution_count": 2,
   "id": "614e8d22",
   "metadata": {},
   "outputs": [],
   "source": [
    "X,y=make_multilabel_classification(n_samples=1000,n_features=10,n_labels=2,n_classes=5)"
   ]
  },
  {
   "cell_type": "code",
   "execution_count": 3,
   "id": "891c319e",
   "metadata": {},
   "outputs": [],
   "source": [
    "bls = broadnet(maptimes = 10,\n",
    "               enhencetimes = 10,\n",
    "               map_function = 'relu',\n",
    "               enhence_function = 'relu',\n",
    "               batchsize = 100,\n",
    "               reg = 0.001)"
   ]
  },
  {
   "cell_type": "code",
   "execution_count": 4,
   "id": "97d26f73",
   "metadata": {},
   "outputs": [],
   "source": [
    "X_train,X_test,y_train,y_test=train_test_split(X,y,test_size=0.3,random_state=48)"
   ]
  },
  {
   "cell_type": "code",
   "execution_count": 5,
   "id": "0caea8b3",
   "metadata": {},
   "outputs": [
    {
     "name": "stdout",
     "output_type": "stream",
     "text": [
      "number of mapping nodes 1000, number of enhence nodes 1000\n",
      "mapping nodes maxvalue 10.49359 minvalue 0.0 \n",
      "enhence nodes maxvalue 9.35473 minvalue 0.0 \n"
     ]
    }
   ],
   "source": [
    "bls.fit(X_train,y_train)"
   ]
  },
  {
   "cell_type": "code",
   "execution_count": 6,
   "id": "e179cf29",
   "metadata": {},
   "outputs": [
    {
     "name": "stdout",
     "output_type": "stream",
     "text": [
      "[0.6364209199747952, 0.6349809885931559, 0.6346769033909149, 0.6404131697869594, 0.6411917098445595, 0.6465573770491804, 0.6486486486486487, 0.6529255319148936, 0.6533066132264529, 0.6531440162271804, 0.6535326086956522, 0.6520847573479152, 0.6528925619834711, 0.6574009728978457, 0.6587412587412587, 0.6549295774647887, 0.658137882018479, 0.6600142551674982, 0.6628324946081956, 0.6618075801749271, 0.6642228739002932, 0.6646971935007386, 0.6661687826736371, 0.6706766917293233, 0.6681783824640967, 0.6681887366818874, 0.6697247706422017, 0.6702536510376633, 0.6671826625386997, 0.6687451286048325, 0.6645768025078369, 0.6614048934490924, 0.6533864541832669, 0.6478646253021757, 0.6499595796281326, 0.6481632653061224, 0.648559670781893, 0.6473509933774835, 0.6438127090301002, 0.6436974789915966, 0.6407438715131023, 0.6417021276595745, 0.6369098712446353, 0.6354166666666666, 0.6274165202108963, 0.6266548984995587, 0.6226583407671722, 0.6209386281588447, 0.6188747731397458, 0.6124314442413162, 0.6095764272559853, 0.6062846580406654, 0.6016713091922007, 0.6003717472118959, 0.5958646616541353, 0.5897920604914935, 0.5872259294566253, 0.5805207328833172, 0.5811467444120505, 0.576735092864125, 0.5694581280788178, 0.5646123260437375, 0.5625625625625625, 0.5607287449392713, 0.5586136595310907, 0.5525773195876289, 0.54375, 0.5378151260504201, 0.5343189017951426, 0.5219251336898395, 0.5177228786251343, 0.5157096424702059, 0.5103598691384951, 0.5103598691384951, 0.5076923076923077, 0.4933035714285715, 0.4892897406989854, 0.48181818181818187, 0.48063781321184507, 0.4682814302191464]\n",
      "The best threshold is 0.32999999999999985\n"
     ]
    }
   ],
   "source": [
    "bls.decoder_alpha(X_test,y_test)"
   ]
  },
  {
   "cell_type": "code",
   "execution_count": 7,
   "id": "f732b36f",
   "metadata": {},
   "outputs": [],
   "source": [
    "predition=bls.predict(X_test)"
   ]
  },
  {
   "cell_type": "code",
   "execution_count": 8,
   "id": "36bff1b9",
   "metadata": {},
   "outputs": [
    {
     "data": {
      "text/plain": [
       "array([[1, 0, 0, 0, 0],\n",
       "       [1, 0, 0, 1, 0],\n",
       "       [1, 0, 1, 1, 1],\n",
       "       ...,\n",
       "       [1, 0, 0, 1, 0],\n",
       "       [1, 0, 0, 1, 1],\n",
       "       [1, 0, 0, 0, 0]])"
      ]
     },
     "execution_count": 8,
     "metadata": {},
     "output_type": "execute_result"
    }
   ],
   "source": [
    "y_test"
   ]
  },
  {
   "cell_type": "code",
   "execution_count": 9,
   "id": "81c3d138",
   "metadata": {},
   "outputs": [
    {
     "data": {
      "text/plain": [
       "0.20666666666666667"
      ]
     },
     "execution_count": 9,
     "metadata": {},
     "output_type": "execute_result"
    }
   ],
   "source": [
    "from sklearn.metrics import accuracy_score\n",
    "accuracy_score(y_pred=predition,y_true=y_test)"
   ]
  },
  {
   "cell_type": "code",
   "execution_count": 10,
   "id": "93fabec4",
   "metadata": {},
   "outputs": [
    {
     "name": "stdout",
     "output_type": "stream",
     "text": [
      "yeast:train - exists, not redownloading\n",
      "yeast:test - exists, not redownloading\n"
     ]
    }
   ],
   "source": [
    "from skmultilearn.dataset import load_dataset\n",
    "X_train, y_train, feature_names, label_names = load_dataset('yeast', 'train')\n",
    "X_test, y_test, _, _ = load_dataset('yeast', 'test')"
   ]
  },
  {
   "cell_type": "code",
   "execution_count": 11,
   "id": "9034adca",
   "metadata": {},
   "outputs": [
    {
     "data": {
      "text/plain": [
       "(1500, 103)"
      ]
     },
     "execution_count": 11,
     "metadata": {},
     "output_type": "execute_result"
    }
   ],
   "source": [
    "X_train.shape"
   ]
  },
  {
   "cell_type": "code",
   "execution_count": 12,
   "id": "77ec2686",
   "metadata": {},
   "outputs": [
    {
     "data": {
      "text/plain": [
       "<917x14 sparse matrix of type '<class 'numpy.int64'>'\n",
       "\twith 3899 stored elements in LInked List format>"
      ]
     },
     "execution_count": 12,
     "metadata": {},
     "output_type": "execute_result"
    }
   ],
   "source": [
    "y_test"
   ]
  },
  {
   "cell_type": "code",
   "execution_count": null,
   "id": "a3991c06",
   "metadata": {},
   "outputs": [],
   "source": []
  }
 ],
 "metadata": {
  "kernelspec": {
   "display_name": "Python [conda env:openne] *",
   "language": "python",
   "name": "conda-env-openne-py"
  },
  "language_info": {
   "codemirror_mode": {
    "name": "ipython",
    "version": 3
   },
   "file_extension": ".py",
   "mimetype": "text/x-python",
   "name": "python",
   "nbconvert_exporter": "python",
   "pygments_lexer": "ipython3",
   "version": "3.6.13"
  }
 },
 "nbformat": 4,
 "nbformat_minor": 5
}
